{
 "cells": [
  {
   "cell_type": "markdown",
   "metadata": {},
   "source": [
    "# Student Performance in Exams\n",
    "\n",
    "Dataset sourced from kaggle:\n",
    "\n",
    "https://www.kaggle.com/spscientist/students-performance-in-exams\n",
    "\n",
    "Dataset provides a good opportunity to practice data visualisation. Some visualisation methods are my own, some are inspired by this analysis: https://public.tableau.com/profile/yakov.gavrilov#!/vizhome/JacobGavrilovStudentDataAnalysis/Story1?publish=yes - the 2nd graphical representation was fun to recreate using Matplotlib/Seaborn, and I learnt a good deal from this whole exercise."
   ]
  },
  {
   "cell_type": "markdown",
   "metadata": {},
   "source": [
    "### Importing necessary libraries and initial exploration of dataset"
   ]
  },
  {
   "cell_type": "code",
   "execution_count": 1,
   "metadata": {},
   "outputs": [],
   "source": [
    "import numpy as np\n",
    "import pandas as pd\n",
    "import matplotlib.pyplot as plt\n",
    "import seaborn as sns\n",
    "%matplotlib inline\n",
    "sns.set_style('whitegrid')\n",
    "sns.set_palette(sns.diverging_palette(10, 220, n=2))"
   ]
  },
  {
   "cell_type": "code",
   "execution_count": 2,
   "metadata": {},
   "outputs": [
    {
     "data": {
      "text/html": [
       "<div>\n",
       "<style scoped>\n",
       "    .dataframe tbody tr th:only-of-type {\n",
       "        vertical-align: middle;\n",
       "    }\n",
       "\n",
       "    .dataframe tbody tr th {\n",
       "        vertical-align: top;\n",
       "    }\n",
       "\n",
       "    .dataframe thead th {\n",
       "        text-align: right;\n",
       "    }\n",
       "</style>\n",
       "<table border=\"1\" class=\"dataframe\">\n",
       "  <thead>\n",
       "    <tr style=\"text-align: right;\">\n",
       "      <th></th>\n",
       "      <th>gender</th>\n",
       "      <th>race/ethnicity</th>\n",
       "      <th>parental level of education</th>\n",
       "      <th>lunch</th>\n",
       "      <th>test preparation course</th>\n",
       "      <th>math score</th>\n",
       "      <th>reading score</th>\n",
       "      <th>writing score</th>\n",
       "    </tr>\n",
       "  </thead>\n",
       "  <tbody>\n",
       "    <tr>\n",
       "      <th>0</th>\n",
       "      <td>female</td>\n",
       "      <td>group B</td>\n",
       "      <td>bachelor's degree</td>\n",
       "      <td>standard</td>\n",
       "      <td>none</td>\n",
       "      <td>72</td>\n",
       "      <td>72</td>\n",
       "      <td>74</td>\n",
       "    </tr>\n",
       "    <tr>\n",
       "      <th>1</th>\n",
       "      <td>female</td>\n",
       "      <td>group C</td>\n",
       "      <td>some college</td>\n",
       "      <td>standard</td>\n",
       "      <td>completed</td>\n",
       "      <td>69</td>\n",
       "      <td>90</td>\n",
       "      <td>88</td>\n",
       "    </tr>\n",
       "    <tr>\n",
       "      <th>2</th>\n",
       "      <td>female</td>\n",
       "      <td>group B</td>\n",
       "      <td>master's degree</td>\n",
       "      <td>standard</td>\n",
       "      <td>none</td>\n",
       "      <td>90</td>\n",
       "      <td>95</td>\n",
       "      <td>93</td>\n",
       "    </tr>\n",
       "    <tr>\n",
       "      <th>3</th>\n",
       "      <td>male</td>\n",
       "      <td>group A</td>\n",
       "      <td>associate's degree</td>\n",
       "      <td>free/reduced</td>\n",
       "      <td>none</td>\n",
       "      <td>47</td>\n",
       "      <td>57</td>\n",
       "      <td>44</td>\n",
       "    </tr>\n",
       "    <tr>\n",
       "      <th>4</th>\n",
       "      <td>male</td>\n",
       "      <td>group C</td>\n",
       "      <td>some college</td>\n",
       "      <td>standard</td>\n",
       "      <td>none</td>\n",
       "      <td>76</td>\n",
       "      <td>78</td>\n",
       "      <td>75</td>\n",
       "    </tr>\n",
       "  </tbody>\n",
       "</table>\n",
       "</div>"
      ],
      "text/plain": [
       "   gender race/ethnicity parental level of education         lunch  \\\n",
       "0  female        group B           bachelor's degree      standard   \n",
       "1  female        group C                some college      standard   \n",
       "2  female        group B             master's degree      standard   \n",
       "3    male        group A          associate's degree  free/reduced   \n",
       "4    male        group C                some college      standard   \n",
       "\n",
       "  test preparation course  math score  reading score  writing score  \n",
       "0                    none          72             72             74  \n",
       "1               completed          69             90             88  \n",
       "2                    none          90             95             93  \n",
       "3                    none          47             57             44  \n",
       "4                    none          76             78             75  "
      ]
     },
     "execution_count": 2,
     "metadata": {},
     "output_type": "execute_result"
    }
   ],
   "source": [
    "perf = pd.read_csv('StudentsPerformance.csv')\n",
    "perf.head()"
   ]
  },
  {
   "cell_type": "code",
   "execution_count": 3,
   "metadata": {},
   "outputs": [
    {
     "data": {
      "text/plain": [
       "(1000, 8)"
      ]
     },
     "execution_count": 3,
     "metadata": {},
     "output_type": "execute_result"
    }
   ],
   "source": [
    "perf.shape\n",
    "#8 features, 8,000 observations"
   ]
  },
  {
   "cell_type": "code",
   "execution_count": 4,
   "metadata": {},
   "outputs": [
    {
     "name": "stdout",
     "output_type": "stream",
     "text": [
      "2 - ['female' 'male']\n",
      "5 - ['group B' 'group C' 'group A' 'group D' 'group E']\n",
      "6 - [\"bachelor's degree\" 'some college' \"master's degree\" \"associate's degree\"\n",
      " 'high school' 'some high school']\n",
      "2 - ['standard' 'free/reduced']\n",
      "2 - ['none' 'completed']\n"
     ]
    }
   ],
   "source": [
    "#Our first 5 features are categorical - how many classes does each contain?\n",
    "for i in perf.columns[0:5]:\n",
    "    print(f\"{len(perf[i].unique())} - {perf[i].unique()}\")"
   ]
  },
  {
   "cell_type": "markdown",
   "metadata": {},
   "source": [
    "## We can use these 5 features to explore how their relationship with test scores. The questions I will investigate:\n",
    "\n",
    "#### 1) What difference is there between genders for math and literacy scores?\n",
    "\n",
    "#### 2) What is the difference in test scores between the 5 ethnic groups? What impact does their lunch type have on their performance?\n",
    "\n",
    "#### 3) What effect does the parental level of education and test preparation have on test score?\n",
    "\n",
    "#### 4) Is there a relationship between race/ethnicity and the parental level of education?\n",
    "\n",
    "#### 5) Is there a relationship between the parental level of education and lunch type, and race/ethnicity and lunch type?"
   ]
  },
  {
   "cell_type": "markdown",
   "metadata": {},
   "source": [
    "##### First, I need to neaten up the text for our categorical features to improve the data visualisations and combine the reading/writing scores in to a single value to allow for 2D graphing in our first question. I will also create a mean test score column to provide an overall figure for student performance to be used in later analysis."
   ]
  },
  {
   "cell_type": "code",
   "execution_count": 5,
   "metadata": {},
   "outputs": [
    {
     "data": {
      "text/html": [
       "<div>\n",
       "<style scoped>\n",
       "    .dataframe tbody tr th:only-of-type {\n",
       "        vertical-align: middle;\n",
       "    }\n",
       "\n",
       "    .dataframe tbody tr th {\n",
       "        vertical-align: top;\n",
       "    }\n",
       "\n",
       "    .dataframe thead th {\n",
       "        text-align: right;\n",
       "    }\n",
       "</style>\n",
       "<table border=\"1\" class=\"dataframe\">\n",
       "  <thead>\n",
       "    <tr style=\"text-align: right;\">\n",
       "      <th></th>\n",
       "      <th>gender</th>\n",
       "      <th>race/ethnicity</th>\n",
       "      <th>parental level of education</th>\n",
       "      <th>lunch</th>\n",
       "      <th>test preparation course</th>\n",
       "      <th>math score</th>\n",
       "      <th>reading score</th>\n",
       "      <th>writing score</th>\n",
       "    </tr>\n",
       "  </thead>\n",
       "  <tbody>\n",
       "    <tr>\n",
       "      <th>0</th>\n",
       "      <td>Female</td>\n",
       "      <td>Group B</td>\n",
       "      <td>Bachelor'S Degree</td>\n",
       "      <td>Standard</td>\n",
       "      <td>None</td>\n",
       "      <td>72</td>\n",
       "      <td>72</td>\n",
       "      <td>74</td>\n",
       "    </tr>\n",
       "    <tr>\n",
       "      <th>1</th>\n",
       "      <td>Female</td>\n",
       "      <td>Group C</td>\n",
       "      <td>Some College</td>\n",
       "      <td>Standard</td>\n",
       "      <td>Completed</td>\n",
       "      <td>69</td>\n",
       "      <td>90</td>\n",
       "      <td>88</td>\n",
       "    </tr>\n",
       "  </tbody>\n",
       "</table>\n",
       "</div>"
      ],
      "text/plain": [
       "   gender race/ethnicity parental level of education     lunch  \\\n",
       "0  Female        Group B           Bachelor'S Degree  Standard   \n",
       "1  Female        Group C                Some College  Standard   \n",
       "\n",
       "  test preparation course  math score  reading score  writing score  \n",
       "0                    None          72             72             74  \n",
       "1               Completed          69             90             88  "
      ]
     },
     "execution_count": 5,
     "metadata": {},
     "output_type": "execute_result"
    }
   ],
   "source": [
    "#Capitalising all the strings for neat data presentation\n",
    "perf.iloc[:,0:5] = perf.iloc[:,0:5].applymap(lambda x: x.title())\n",
    "perf.head(2)"
   ]
  },
  {
   "cell_type": "code",
   "execution_count": 6,
   "metadata": {},
   "outputs": [
    {
     "data": {
      "text/html": [
       "<div>\n",
       "<style scoped>\n",
       "    .dataframe tbody tr th:only-of-type {\n",
       "        vertical-align: middle;\n",
       "    }\n",
       "\n",
       "    .dataframe tbody tr th {\n",
       "        vertical-align: top;\n",
       "    }\n",
       "\n",
       "    .dataframe thead th {\n",
       "        text-align: right;\n",
       "    }\n",
       "</style>\n",
       "<table border=\"1\" class=\"dataframe\">\n",
       "  <thead>\n",
       "    <tr style=\"text-align: right;\">\n",
       "      <th></th>\n",
       "      <th>gender</th>\n",
       "      <th>race/ethnicity</th>\n",
       "      <th>parental level of education</th>\n",
       "      <th>lunch</th>\n",
       "      <th>test preparation course</th>\n",
       "      <th>math score</th>\n",
       "      <th>reading score</th>\n",
       "      <th>writing score</th>\n",
       "    </tr>\n",
       "  </thead>\n",
       "  <tbody>\n",
       "    <tr>\n",
       "      <th>0</th>\n",
       "      <td>Female</td>\n",
       "      <td>Group B</td>\n",
       "      <td>Bachelor's Degree</td>\n",
       "      <td>Standard</td>\n",
       "      <td>None</td>\n",
       "      <td>72</td>\n",
       "      <td>72</td>\n",
       "      <td>74</td>\n",
       "    </tr>\n",
       "    <tr>\n",
       "      <th>1</th>\n",
       "      <td>Female</td>\n",
       "      <td>Group C</td>\n",
       "      <td>Some College</td>\n",
       "      <td>Standard</td>\n",
       "      <td>Completed</td>\n",
       "      <td>69</td>\n",
       "      <td>90</td>\n",
       "      <td>88</td>\n",
       "    </tr>\n",
       "  </tbody>\n",
       "</table>\n",
       "</div>"
      ],
      "text/plain": [
       "   gender race/ethnicity parental level of education     lunch  \\\n",
       "0  Female        Group B           Bachelor's Degree  Standard   \n",
       "1  Female        Group C                Some College  Standard   \n",
       "\n",
       "  test preparation course  math score  reading score  writing score  \n",
       "0                    None          72             72             74  \n",
       "1               Completed          69             90             88  "
      ]
     },
     "execution_count": 6,
     "metadata": {},
     "output_type": "execute_result"
    }
   ],
   "source": [
    "#need to amend capitalised 'S\n",
    "perf['parental level of education'] = perf['parental level of education'].apply(lambda x: x.replace(\"'S\",\"'s\"))\n",
    "perf.head(2)"
   ]
  },
  {
   "cell_type": "code",
   "execution_count": 7,
   "metadata": {},
   "outputs": [
    {
     "data": {
      "text/html": [
       "<div>\n",
       "<style scoped>\n",
       "    .dataframe tbody tr th:only-of-type {\n",
       "        vertical-align: middle;\n",
       "    }\n",
       "\n",
       "    .dataframe tbody tr th {\n",
       "        vertical-align: top;\n",
       "    }\n",
       "\n",
       "    .dataframe thead th {\n",
       "        text-align: right;\n",
       "    }\n",
       "</style>\n",
       "<table border=\"1\" class=\"dataframe\">\n",
       "  <thead>\n",
       "    <tr style=\"text-align: right;\">\n",
       "      <th></th>\n",
       "      <th>gender</th>\n",
       "      <th>race/ethnicity</th>\n",
       "      <th>parental level of education</th>\n",
       "      <th>lunch</th>\n",
       "      <th>test preparation course</th>\n",
       "      <th>math score</th>\n",
       "      <th>reading score</th>\n",
       "      <th>writing score</th>\n",
       "      <th>literacy score</th>\n",
       "    </tr>\n",
       "  </thead>\n",
       "  <tbody>\n",
       "    <tr>\n",
       "      <th>0</th>\n",
       "      <td>Female</td>\n",
       "      <td>Group B</td>\n",
       "      <td>Bachelor's Degree</td>\n",
       "      <td>Standard</td>\n",
       "      <td>None</td>\n",
       "      <td>72</td>\n",
       "      <td>72</td>\n",
       "      <td>74</td>\n",
       "      <td>73.0</td>\n",
       "    </tr>\n",
       "    <tr>\n",
       "      <th>1</th>\n",
       "      <td>Female</td>\n",
       "      <td>Group C</td>\n",
       "      <td>Some College</td>\n",
       "      <td>Standard</td>\n",
       "      <td>Completed</td>\n",
       "      <td>69</td>\n",
       "      <td>90</td>\n",
       "      <td>88</td>\n",
       "      <td>89.0</td>\n",
       "    </tr>\n",
       "  </tbody>\n",
       "</table>\n",
       "</div>"
      ],
      "text/plain": [
       "   gender race/ethnicity parental level of education     lunch  \\\n",
       "0  Female        Group B           Bachelor's Degree  Standard   \n",
       "1  Female        Group C                Some College  Standard   \n",
       "\n",
       "  test preparation course  math score  reading score  writing score  \\\n",
       "0                    None          72             72             74   \n",
       "1               Completed          69             90             88   \n",
       "\n",
       "   literacy score  \n",
       "0            73.0  \n",
       "1            89.0  "
      ]
     },
     "execution_count": 7,
     "metadata": {},
     "output_type": "execute_result"
    }
   ],
   "source": [
    "#Combining reading and writing score together to create a single score for literary proficiency. This allows for 2D graphing of mathematics vs literacy.\n",
    "perf['literacy score'] = np.mean(perf[['reading score','writing score']],axis=1)\n",
    "perf.head(2)"
   ]
  },
  {
   "cell_type": "code",
   "execution_count": 8,
   "metadata": {},
   "outputs": [
    {
     "data": {
      "text/html": [
       "<div>\n",
       "<style scoped>\n",
       "    .dataframe tbody tr th:only-of-type {\n",
       "        vertical-align: middle;\n",
       "    }\n",
       "\n",
       "    .dataframe tbody tr th {\n",
       "        vertical-align: top;\n",
       "    }\n",
       "\n",
       "    .dataframe thead th {\n",
       "        text-align: right;\n",
       "    }\n",
       "</style>\n",
       "<table border=\"1\" class=\"dataframe\">\n",
       "  <thead>\n",
       "    <tr style=\"text-align: right;\">\n",
       "      <th></th>\n",
       "      <th>gender</th>\n",
       "      <th>race/ethnicity</th>\n",
       "      <th>parental level of education</th>\n",
       "      <th>lunch</th>\n",
       "      <th>test preparation course</th>\n",
       "      <th>math score</th>\n",
       "      <th>reading score</th>\n",
       "      <th>writing score</th>\n",
       "      <th>literacy score</th>\n",
       "      <th>mean score</th>\n",
       "    </tr>\n",
       "  </thead>\n",
       "  <tbody>\n",
       "    <tr>\n",
       "      <th>0</th>\n",
       "      <td>Female</td>\n",
       "      <td>Group B</td>\n",
       "      <td>Bachelor's Degree</td>\n",
       "      <td>Standard</td>\n",
       "      <td>None</td>\n",
       "      <td>72</td>\n",
       "      <td>72</td>\n",
       "      <td>74</td>\n",
       "      <td>73.0</td>\n",
       "      <td>72.67</td>\n",
       "    </tr>\n",
       "    <tr>\n",
       "      <th>1</th>\n",
       "      <td>Female</td>\n",
       "      <td>Group C</td>\n",
       "      <td>Some College</td>\n",
       "      <td>Standard</td>\n",
       "      <td>Completed</td>\n",
       "      <td>69</td>\n",
       "      <td>90</td>\n",
       "      <td>88</td>\n",
       "      <td>89.0</td>\n",
       "      <td>82.33</td>\n",
       "    </tr>\n",
       "    <tr>\n",
       "      <th>2</th>\n",
       "      <td>Female</td>\n",
       "      <td>Group B</td>\n",
       "      <td>Master's Degree</td>\n",
       "      <td>Standard</td>\n",
       "      <td>None</td>\n",
       "      <td>90</td>\n",
       "      <td>95</td>\n",
       "      <td>93</td>\n",
       "      <td>94.0</td>\n",
       "      <td>92.67</td>\n",
       "    </tr>\n",
       "  </tbody>\n",
       "</table>\n",
       "</div>"
      ],
      "text/plain": [
       "   gender race/ethnicity parental level of education     lunch  \\\n",
       "0  Female        Group B           Bachelor's Degree  Standard   \n",
       "1  Female        Group C                Some College  Standard   \n",
       "2  Female        Group B             Master's Degree  Standard   \n",
       "\n",
       "  test preparation course  math score  reading score  writing score  \\\n",
       "0                    None          72             72             74   \n",
       "1               Completed          69             90             88   \n",
       "2                    None          90             95             93   \n",
       "\n",
       "   literacy score  mean score  \n",
       "0            73.0       72.67  \n",
       "1            89.0       82.33  \n",
       "2            94.0       92.67  "
      ]
     },
     "execution_count": 8,
     "metadata": {},
     "output_type": "execute_result"
    }
   ],
   "source": [
    "#Creating the combined test score column for use in later analysis.\n",
    "perf['mean score'] = np.round(np.mean(perf[['math score','reading score','writing score']],axis=1),2)\n",
    "perf.head(3)"
   ]
  },
  {
   "cell_type": "markdown",
   "metadata": {},
   "source": [
    "### 1) What difference is there between genders for math and literacy scores?"
   ]
  },
  {
   "cell_type": "code",
   "execution_count": 9,
   "metadata": {},
   "outputs": [
    {
     "data": {
      "text/plain": [
       "Text(0.5,19.8,'Maths Score')"
      ]
     },
     "execution_count": 9,
     "metadata": {},
     "output_type": "execute_result"
    },
    {
     "data": {
      "image/png": "[encoded data removed]",
      "text/plain": [
       "<Figure size 789.375x720 with 1 Axes>"
      ]
     },
     "metadata": {},
     "output_type": "display_data"
    }
   ],
   "source": [
    "#Creating a scatter plot of literacy vs maths, linear regression line fit and results split by gender\n",
    "sns.lmplot(x='math score',y='literacy score',hue='gender',data=perf,height=10)\n",
    "plt.title('Literacy vs Maths Score, split by gender',fontsize=15)\n",
    "plt.ylabel('Literacy Score',fontsize=11)\n",
    "plt.xlabel('Maths Score',fontsize=11)"
   ]
  },
  {
   "cell_type": "markdown",
   "metadata": {},
   "source": [
    "### 2) What is the difference in test scores between the 5 ethnic groups? What impact does their lunch type have on their performance?"
   ]
  },
  {
   "cell_type": "code",
   "execution_count": 10,
   "metadata": {},
   "outputs": [],
   "source": [
    "#Creating a dataframe to group by 3 orders; gender, ethnic group, and lunch type. Mean of test performance scores calculated from grouped values.\n",
    "lunch = perf[['gender','race/ethnicity','math score','literacy score','mean score','lunch']].groupby(by=['gender','race/ethnicity','lunch'],as_index=False).mean()"
   ]
  },
  {
   "cell_type": "code",
   "execution_count": 11,
   "metadata": {},
   "outputs": [
    {
     "data": {
      "text/html": [
       "<div>\n",
       "<style scoped>\n",
       "    .dataframe tbody tr th:only-of-type {\n",
       "        vertical-align: middle;\n",
       "    }\n",
       "\n",
       "    .dataframe tbody tr th {\n",
       "        vertical-align: top;\n",
       "    }\n",
       "\n",
       "    .dataframe thead th {\n",
       "        text-align: right;\n",
       "    }\n",
       "</style>\n",
       "<table border=\"1\" class=\"dataframe\">\n",
       "  <thead>\n",
       "    <tr style=\"text-align: right;\">\n",
       "      <th></th>\n",
       "      <th>gender</th>\n",
       "      <th>race/ethnicity</th>\n",
       "      <th>lunch</th>\n",
       "      <th>math score</th>\n",
       "      <th>literacy score</th>\n",
       "      <th>mean score</th>\n",
       "    </tr>\n",
       "  </thead>\n",
       "  <tbody>\n",
       "    <tr>\n",
       "      <th>0</th>\n",
       "      <td>Female</td>\n",
       "      <td>Group A</td>\n",
       "      <td>Free/Reduced</td>\n",
       "      <td>49.928571</td>\n",
       "      <td>59.678571</td>\n",
       "      <td>56.427143</td>\n",
       "    </tr>\n",
       "    <tr>\n",
       "      <th>1</th>\n",
       "      <td>Female</td>\n",
       "      <td>Group A</td>\n",
       "      <td>Standard</td>\n",
       "      <td>64.000000</td>\n",
       "      <td>74.000000</td>\n",
       "      <td>70.666818</td>\n",
       "    </tr>\n",
       "    <tr>\n",
       "      <th>2</th>\n",
       "      <td>Female</td>\n",
       "      <td>Group B</td>\n",
       "      <td>Free/Reduced</td>\n",
       "      <td>56.512821</td>\n",
       "      <td>68.192308</td>\n",
       "      <td>64.299231</td>\n",
       "    </tr>\n",
       "  </tbody>\n",
       "</table>\n",
       "</div>"
      ],
      "text/plain": [
       "   gender race/ethnicity         lunch  math score  literacy score  mean score\n",
       "0  Female        Group A  Free/Reduced   49.928571       59.678571   56.427143\n",
       "1  Female        Group A      Standard   64.000000       74.000000   70.666818\n",
       "2  Female        Group B  Free/Reduced   56.512821       68.192308   64.299231"
      ]
     },
     "execution_count": 11,
     "metadata": {},
     "output_type": "execute_result"
    }
   ],
   "source": [
    "#Checking head of df to view grouping\n",
    "lunch.head(3)"
   ]
  },
  {
   "cell_type": "code",
   "execution_count": 12,
   "metadata": {},
   "outputs": [
    {
     "data": {
      "text/html": [
       "<div>\n",
       "<style scoped>\n",
       "    .dataframe tbody tr th:only-of-type {\n",
       "        vertical-align: middle;\n",
       "    }\n",
       "\n",
       "    .dataframe tbody tr th {\n",
       "        vertical-align: top;\n",
       "    }\n",
       "\n",
       "    .dataframe thead th {\n",
       "        text-align: right;\n",
       "    }\n",
       "</style>\n",
       "<table border=\"1\" class=\"dataframe\">\n",
       "  <thead>\n",
       "    <tr style=\"text-align: right;\">\n",
       "      <th></th>\n",
       "      <th>gender</th>\n",
       "      <th>race/ethnicity</th>\n",
       "      <th>lunch</th>\n",
       "      <th>math score</th>\n",
       "      <th>literacy score</th>\n",
       "      <th>mean score</th>\n",
       "    </tr>\n",
       "  </thead>\n",
       "  <tbody>\n",
       "    <tr>\n",
       "      <th>17</th>\n",
       "      <td>Male</td>\n",
       "      <td>Group D</td>\n",
       "      <td>Standard</td>\n",
       "      <td>71.752809</td>\n",
       "      <td>67.488764</td>\n",
       "      <td>68.909888</td>\n",
       "    </tr>\n",
       "    <tr>\n",
       "      <th>18</th>\n",
       "      <td>Male</td>\n",
       "      <td>Group E</td>\n",
       "      <td>Free/Reduced</td>\n",
       "      <td>73.277778</td>\n",
       "      <td>68.000000</td>\n",
       "      <td>69.758889</td>\n",
       "    </tr>\n",
       "    <tr>\n",
       "      <th>19</th>\n",
       "      <td>Male</td>\n",
       "      <td>Group E</td>\n",
       "      <td>Standard</td>\n",
       "      <td>77.924528</td>\n",
       "      <td>69.132075</td>\n",
       "      <td>72.062642</td>\n",
       "    </tr>\n",
       "  </tbody>\n",
       "</table>\n",
       "</div>"
      ],
      "text/plain": [
       "   gender race/ethnicity         lunch  math score  literacy score  mean score\n",
       "17   Male        Group D      Standard   71.752809       67.488764   68.909888\n",
       "18   Male        Group E  Free/Reduced   73.277778       68.000000   69.758889\n",
       "19   Male        Group E      Standard   77.924528       69.132075   72.062642"
      ]
     },
     "execution_count": 12,
     "metadata": {},
     "output_type": "execute_result"
    }
   ],
   "source": [
    "#Checking tail of df to view grouping\n",
    "lunch.tail(3)"
   ]
  },
  {
   "cell_type": "code",
   "execution_count": 13,
   "metadata": {},
   "outputs": [],
   "source": [
    "#Creating a dataframe to group by gender and ethnic group only. This allows us to see the mean value for that sub-group and thus how far each lunch-type \n",
    "#sub-group deviates from the mean.\n",
    "collapsed_lunch = perf[['gender','race/ethnicity','math score','literacy score','mean score',]].groupby(by=['gender','race/ethnicity'],as_index=False).mean()"
   ]
  },
  {
   "cell_type": "code",
   "execution_count": 14,
   "metadata": {},
   "outputs": [
    {
     "data": {
      "text/html": [
       "<div>\n",
       "<style scoped>\n",
       "    .dataframe tbody tr th:only-of-type {\n",
       "        vertical-align: middle;\n",
       "    }\n",
       "\n",
       "    .dataframe tbody tr th {\n",
       "        vertical-align: top;\n",
       "    }\n",
       "\n",
       "    .dataframe thead th {\n",
       "        text-align: right;\n",
       "    }\n",
       "</style>\n",
       "<table border=\"1\" class=\"dataframe\">\n",
       "  <thead>\n",
       "    <tr style=\"text-align: right;\">\n",
       "      <th></th>\n",
       "      <th>gender</th>\n",
       "      <th>race/ethnicity</th>\n",
       "      <th>math score</th>\n",
       "      <th>literacy score</th>\n",
       "      <th>mean score</th>\n",
       "    </tr>\n",
       "  </thead>\n",
       "  <tbody>\n",
       "    <tr>\n",
       "      <th>0</th>\n",
       "      <td>Female</td>\n",
       "      <td>Group A</td>\n",
       "      <td>58.527778</td>\n",
       "      <td>68.430556</td>\n",
       "      <td>65.129167</td>\n",
       "    </tr>\n",
       "    <tr>\n",
       "      <th>1</th>\n",
       "      <td>Female</td>\n",
       "      <td>Group B</td>\n",
       "      <td>61.403846</td>\n",
       "      <td>70.562500</td>\n",
       "      <td>67.510000</td>\n",
       "    </tr>\n",
       "    <tr>\n",
       "      <th>2</th>\n",
       "      <td>Female</td>\n",
       "      <td>Group C</td>\n",
       "      <td>62.033333</td>\n",
       "      <td>71.861111</td>\n",
       "      <td>68.585222</td>\n",
       "    </tr>\n",
       "  </tbody>\n",
       "</table>\n",
       "</div>"
      ],
      "text/plain": [
       "   gender race/ethnicity  math score  literacy score  mean score\n",
       "0  Female        Group A   58.527778       68.430556   65.129167\n",
       "1  Female        Group B   61.403846       70.562500   67.510000\n",
       "2  Female        Group C   62.033333       71.861111   68.585222"
      ]
     },
     "execution_count": 14,
     "metadata": {},
     "output_type": "execute_result"
    }
   ],
   "source": [
    "collapsed_lunch.head(3)"
   ]
  },
  {
   "cell_type": "code",
   "execution_count": 15,
   "metadata": {},
   "outputs": [],
   "source": [
    "#Inserting a lunch type value column so that a) the data is mapped correctly on the resulting legend and b) the tables can be concatenated together for graphing\n",
    "collapsed_lunch.insert(2,'lunch','Mean Value')"
   ]
  },
  {
   "cell_type": "code",
   "execution_count": 16,
   "metadata": {},
   "outputs": [
    {
     "data": {
      "text/html": [
       "<div>\n",
       "<style scoped>\n",
       "    .dataframe tbody tr th:only-of-type {\n",
       "        vertical-align: middle;\n",
       "    }\n",
       "\n",
       "    .dataframe tbody tr th {\n",
       "        vertical-align: top;\n",
       "    }\n",
       "\n",
       "    .dataframe thead th {\n",
       "        text-align: right;\n",
       "    }\n",
       "</style>\n",
       "<table border=\"1\" class=\"dataframe\">\n",
       "  <thead>\n",
       "    <tr style=\"text-align: right;\">\n",
       "      <th></th>\n",
       "      <th>gender</th>\n",
       "      <th>race/ethnicity</th>\n",
       "      <th>lunch</th>\n",
       "      <th>math score</th>\n",
       "      <th>literacy score</th>\n",
       "      <th>mean score</th>\n",
       "    </tr>\n",
       "  </thead>\n",
       "  <tbody>\n",
       "    <tr>\n",
       "      <th>0</th>\n",
       "      <td>Female</td>\n",
       "      <td>Group A</td>\n",
       "      <td>Mean Value</td>\n",
       "      <td>58.527778</td>\n",
       "      <td>68.430556</td>\n",
       "      <td>65.129167</td>\n",
       "    </tr>\n",
       "    <tr>\n",
       "      <th>1</th>\n",
       "      <td>Female</td>\n",
       "      <td>Group B</td>\n",
       "      <td>Mean Value</td>\n",
       "      <td>61.403846</td>\n",
       "      <td>70.562500</td>\n",
       "      <td>67.510000</td>\n",
       "    </tr>\n",
       "    <tr>\n",
       "      <th>2</th>\n",
       "      <td>Female</td>\n",
       "      <td>Group C</td>\n",
       "      <td>Mean Value</td>\n",
       "      <td>62.033333</td>\n",
       "      <td>71.861111</td>\n",
       "      <td>68.585222</td>\n",
       "    </tr>\n",
       "  </tbody>\n",
       "</table>\n",
       "</div>"
      ],
      "text/plain": [
       "   gender race/ethnicity       lunch  math score  literacy score  mean score\n",
       "0  Female        Group A  Mean Value   58.527778       68.430556   65.129167\n",
       "1  Female        Group B  Mean Value   61.403846       70.562500   67.510000\n",
       "2  Female        Group C  Mean Value   62.033333       71.861111   68.585222"
      ]
     },
     "execution_count": 16,
     "metadata": {},
     "output_type": "execute_result"
    }
   ],
   "source": [
    "collapsed_lunch.head(3)"
   ]
  },
  {
   "cell_type": "code",
   "execution_count": 17,
   "metadata": {},
   "outputs": [],
   "source": [
    "#Concatinating our two dataframes together and then sorting them so all of the sub-groups are in order and the observations are correctly adjacent \n",
    "concat_lunch = pd.concat([lunch, collapsed_lunch]).sort_values(by=['gender','race/ethnicity','lunch'],axis=0)"
   ]
  },
  {
   "cell_type": "code",
   "execution_count": 18,
   "metadata": {},
   "outputs": [
    {
     "data": {
      "text/html": [
       "<div>\n",
       "<style scoped>\n",
       "    .dataframe tbody tr th:only-of-type {\n",
       "        vertical-align: middle;\n",
       "    }\n",
       "\n",
       "    .dataframe tbody tr th {\n",
       "        vertical-align: top;\n",
       "    }\n",
       "\n",
       "    .dataframe thead th {\n",
       "        text-align: right;\n",
       "    }\n",
       "</style>\n",
       "<table border=\"1\" class=\"dataframe\">\n",
       "  <thead>\n",
       "    <tr style=\"text-align: right;\">\n",
       "      <th></th>\n",
       "      <th>gender</th>\n",
       "      <th>race/ethnicity</th>\n",
       "      <th>lunch</th>\n",
       "      <th>math score</th>\n",
       "      <th>literacy score</th>\n",
       "      <th>mean score</th>\n",
       "    </tr>\n",
       "  </thead>\n",
       "  <tbody>\n",
       "    <tr>\n",
       "      <th>0</th>\n",
       "      <td>Female</td>\n",
       "      <td>Group A</td>\n",
       "      <td>Free/Reduced</td>\n",
       "      <td>49.928571</td>\n",
       "      <td>59.678571</td>\n",
       "      <td>56.427143</td>\n",
       "    </tr>\n",
       "    <tr>\n",
       "      <th>0</th>\n",
       "      <td>Female</td>\n",
       "      <td>Group A</td>\n",
       "      <td>Mean Value</td>\n",
       "      <td>58.527778</td>\n",
       "      <td>68.430556</td>\n",
       "      <td>65.129167</td>\n",
       "    </tr>\n",
       "    <tr>\n",
       "      <th>1</th>\n",
       "      <td>Female</td>\n",
       "      <td>Group A</td>\n",
       "      <td>Standard</td>\n",
       "      <td>64.000000</td>\n",
       "      <td>74.000000</td>\n",
       "      <td>70.666818</td>\n",
       "    </tr>\n",
       "  </tbody>\n",
       "</table>\n",
       "</div>"
      ],
      "text/plain": [
       "   gender race/ethnicity         lunch  math score  literacy score  mean score\n",
       "0  Female        Group A  Free/Reduced   49.928571       59.678571   56.427143\n",
       "0  Female        Group A    Mean Value   58.527778       68.430556   65.129167\n",
       "1  Female        Group A      Standard   64.000000       74.000000   70.666818"
      ]
     },
     "execution_count": 18,
     "metadata": {},
     "output_type": "execute_result"
    }
   ],
   "source": [
    "concat_lunch.head(3)"
   ]
  },
  {
   "cell_type": "code",
   "execution_count": 19,
   "metadata": {},
   "outputs": [
    {
     "data": {
      "text/plain": [
       "Text(0.5,0.98,'Test Scores vs Ethnic Group, split by Lunch Type')"
      ]
     },
     "execution_count": 19,
     "metadata": {},
     "output_type": "execute_result"
    },
    {
     "data": {
      "image/png": "[encoded data removed]",
      "text/plain": [
       "<Figure size 1800x432 with 6 Axes>"
      ]
     },
     "metadata": {},
     "output_type": "display_data"
    }
   ],
   "source": [
    "#Creating our data visualisation\n",
    "\n",
    "#Creating the fig, axes data objects and setting the axes properties we want - x,y graphs share values across subplots and our vertical\n",
    "#graphs are stacked directly on top of one another to improve graph readability\n",
    "fig, axes = plt.subplots(nrows=2, ncols=3, sharex=True,sharey=True,figsize = (25,6),gridspec_kw={'wspace':0.05,'hspace':0})\n",
    "\n",
    "#Standardising the axes widths\n",
    "axes[1][0].set_xlim(45,85)\n",
    "axes[1][1].set_xlim(45,85)\n",
    "axes[1][2].set_xlim(45,85)\n",
    "\n",
    "#Custom colour palette for this graph as the binary palette used so far is not approriate\n",
    "with sns.diverging_palette(10, 220, n=3,center='dark'):\n",
    "\n",
    "    #Maths scores, seperated by gender\n",
    "    sns.pointplot(y='race/ethnicity',x='math score',hue='lunch',data=concat_lunch.iloc[:15],markers='|',join=False,ax=axes[0][0])\n",
    "    sns.pointplot(y='race/ethnicity',x='math score',hue='lunch',data=concat_lunch.iloc[15:],markers='|',join=False,ax=axes[1][0])\n",
    "\n",
    "    #Literacy scores, seperated by gender\n",
    "    sns.pointplot(y='race/ethnicity',x='literacy score',hue='lunch',data=concat_lunch.iloc[:15],markers='|',join=False,ax=axes[0][1])\n",
    "    sns.pointplot(y='race/ethnicity',x='literacy score',hue='lunch',data=concat_lunch.iloc[15:],markers='|',join=False,ax=axes[1][1])\n",
    "\n",
    "    #Mean scores, seperated by gender\n",
    "    sns.pointplot(y='race/ethnicity',x='mean score',hue='lunch',data=concat_lunch.iloc[:15],markers='|',join=False,ax=axes[0][2])\n",
    "    sns.pointplot(y='race/ethnicity',x='mean score',hue='lunch',data=concat_lunch.iloc[15:],markers='|',join=False,ax=axes[1][2])\n",
    "\n",
    "#Removing x labels from top set of graphs\n",
    "axes[0][0].set_xlabel('')\n",
    "axes[0][1].set_xlabel('')\n",
    "axes[0][2].set_xlabel('')\n",
    "\n",
    "#Setting x labels for bottom set of graphs\n",
    "axes[1][0].set_xlabel('Maths Score',fontsize=11)\n",
    "axes[1][1].set_xlabel('Literacy Score',fontsize=11)\n",
    "axes[1][2].set_xlabel('Mean Score',fontsize=11)\n",
    "\n",
    "#Removing y label for each inner graph\n",
    "axes[0][1].set_ylabel('')\n",
    "axes[0][2].set_ylabel('')\n",
    "axes[1][1].set_ylabel('')\n",
    "axes[1][2].set_ylabel('')\n",
    "\n",
    "#Setting common y label for each gender\n",
    "axes[0][0].set_ylabel('Female',fontsize=11)\n",
    "axes[1][0].set_ylabel('Male',fontsize=11)\n",
    "\n",
    "#Removing legends from individual plots\n",
    "axes[0][0].get_legend().remove()\n",
    "axes[0][1].get_legend().remove()\n",
    "axes[0][2].get_legend().remove()\n",
    "axes[1][0].get_legend().remove()\n",
    "axes[1][1].get_legend().remove()\n",
    "axes[1][2].get_legend().remove()\n",
    "\n",
    "#Setting common legend for whole graph\n",
    "handles, labels = axes[0][0].get_legend_handles_labels()      \n",
    "axes[0][2].legend(handles,labels,loc='upper right')\n",
    "\n",
    "#Setting common y label\n",
    "fig.text(0.075, 0.5, 'Ethnic Group', va='center', rotation='vertical',fontsize=11)\n",
    "\n",
    "#Setting figure title\n",
    "fig.suptitle('Test Scores vs Ethnic Group, split by Lunch Type',fontsize=15)\n"
   ]
  },
  {
   "cell_type": "markdown",
   "metadata": {},
   "source": [
    "### 3) What effect does the parental level of education and test preparation have on test score?"
   ]
  },
  {
   "cell_type": "code",
   "execution_count": 20,
   "metadata": {},
   "outputs": [],
   "source": [
    "#Creating a dataframe holding only the columns we wish to analyse\n",
    "edu_prep = perf[['parental level of education','test preparation course','math score','literacy score','mean score']]"
   ]
  },
  {
   "cell_type": "code",
   "execution_count": 21,
   "metadata": {},
   "outputs": [
    {
     "data": {
      "text/html": [
       "<div>\n",
       "<style scoped>\n",
       "    .dataframe tbody tr th:only-of-type {\n",
       "        vertical-align: middle;\n",
       "    }\n",
       "\n",
       "    .dataframe tbody tr th {\n",
       "        vertical-align: top;\n",
       "    }\n",
       "\n",
       "    .dataframe thead th {\n",
       "        text-align: right;\n",
       "    }\n",
       "</style>\n",
       "<table border=\"1\" class=\"dataframe\">\n",
       "  <thead>\n",
       "    <tr style=\"text-align: right;\">\n",
       "      <th></th>\n",
       "      <th>parental level of education</th>\n",
       "      <th>test preparation course</th>\n",
       "      <th>math score</th>\n",
       "      <th>literacy score</th>\n",
       "      <th>mean score</th>\n",
       "    </tr>\n",
       "  </thead>\n",
       "  <tbody>\n",
       "    <tr>\n",
       "      <th>0</th>\n",
       "      <td>Bachelor's Degree</td>\n",
       "      <td>None</td>\n",
       "      <td>72</td>\n",
       "      <td>73.0</td>\n",
       "      <td>72.67</td>\n",
       "    </tr>\n",
       "    <tr>\n",
       "      <th>1</th>\n",
       "      <td>Some College</td>\n",
       "      <td>Completed</td>\n",
       "      <td>69</td>\n",
       "      <td>89.0</td>\n",
       "      <td>82.33</td>\n",
       "    </tr>\n",
       "    <tr>\n",
       "      <th>2</th>\n",
       "      <td>Master's Degree</td>\n",
       "      <td>None</td>\n",
       "      <td>90</td>\n",
       "      <td>94.0</td>\n",
       "      <td>92.67</td>\n",
       "    </tr>\n",
       "  </tbody>\n",
       "</table>\n",
       "</div>"
      ],
      "text/plain": [
       "  parental level of education test preparation course  math score  \\\n",
       "0           Bachelor's Degree                    None          72   \n",
       "1                Some College               Completed          69   \n",
       "2             Master's Degree                    None          90   \n",
       "\n",
       "   literacy score  mean score  \n",
       "0            73.0       72.67  \n",
       "1            89.0       82.33  \n",
       "2            94.0       92.67  "
      ]
     },
     "execution_count": 21,
     "metadata": {},
     "output_type": "execute_result"
    }
   ],
   "source": [
    "edu_prep.head(3)"
   ]
  },
  {
   "cell_type": "code",
   "execution_count": 22,
   "metadata": {},
   "outputs": [],
   "source": [
    "#Grouping by appropriate categories, mean of grouped values taken\n",
    "g_edu_prep = edu_prep.groupby(by=['test preparation course','parental level of education'],as_index=False).mean()"
   ]
  },
  {
   "cell_type": "code",
   "execution_count": 23,
   "metadata": {},
   "outputs": [],
   "source": [
    "#Dict to translate the various education levels to numerical values to then sort by\n",
    "edu_dict = {'Some High School':1,'High School':2,'Some College':3,\"Associate's Degree\":4,\"Bachelor's Degree\":5,\"Master's Degree\":6}"
   ]
  },
  {
   "cell_type": "code",
   "execution_count": 24,
   "metadata": {},
   "outputs": [],
   "source": [
    "#Creating the education level column, and then sorting by it\n",
    "g_edu_prep['edu_level'] = [edu_dict[i] for i in g_edu_prep['parental level of education']]"
   ]
  },
  {
   "cell_type": "code",
   "execution_count": 25,
   "metadata": {},
   "outputs": [],
   "source": [
    "g_edu_prep = g_edu_prep.sort_values(by=['test preparation course','edu_level'])"
   ]
  },
  {
   "cell_type": "code",
   "execution_count": 26,
   "metadata": {},
   "outputs": [
    {
     "data": {
      "text/html": [
       "<div>\n",
       "<style scoped>\n",
       "    .dataframe tbody tr th:only-of-type {\n",
       "        vertical-align: middle;\n",
       "    }\n",
       "\n",
       "    .dataframe tbody tr th {\n",
       "        vertical-align: top;\n",
       "    }\n",
       "\n",
       "    .dataframe thead th {\n",
       "        text-align: right;\n",
       "    }\n",
       "</style>\n",
       "<table border=\"1\" class=\"dataframe\">\n",
       "  <thead>\n",
       "    <tr style=\"text-align: right;\">\n",
       "      <th></th>\n",
       "      <th>test preparation course</th>\n",
       "      <th>parental level of education</th>\n",
       "      <th>math score</th>\n",
       "      <th>literacy score</th>\n",
       "      <th>mean score</th>\n",
       "      <th>edu_level</th>\n",
       "    </tr>\n",
       "  </thead>\n",
       "  <tbody>\n",
       "    <tr>\n",
       "      <th>5</th>\n",
       "      <td>Completed</td>\n",
       "      <td>Some High School</td>\n",
       "      <td>66.701299</td>\n",
       "      <td>70.655844</td>\n",
       "      <td>69.337273</td>\n",
       "      <td>1</td>\n",
       "    </tr>\n",
       "    <tr>\n",
       "      <th>2</th>\n",
       "      <td>Completed</td>\n",
       "      <td>High School</td>\n",
       "      <td>65.000000</td>\n",
       "      <td>67.946429</td>\n",
       "      <td>66.964821</td>\n",
       "      <td>2</td>\n",
       "    </tr>\n",
       "    <tr>\n",
       "      <th>4</th>\n",
       "      <td>Completed</td>\n",
       "      <td>Some College</td>\n",
       "      <td>71.454545</td>\n",
       "      <td>76.253247</td>\n",
       "      <td>74.653636</td>\n",
       "      <td>3</td>\n",
       "    </tr>\n",
       "    <tr>\n",
       "      <th>0</th>\n",
       "      <td>Completed</td>\n",
       "      <td>Associate's Degree</td>\n",
       "      <td>71.829268</td>\n",
       "      <td>76.493902</td>\n",
       "      <td>74.938780</td>\n",
       "      <td>4</td>\n",
       "    </tr>\n",
       "    <tr>\n",
       "      <th>1</th>\n",
       "      <td>Completed</td>\n",
       "      <td>Bachelor's Degree</td>\n",
       "      <td>73.282609</td>\n",
       "      <td>77.717391</td>\n",
       "      <td>76.239783</td>\n",
       "      <td>5</td>\n",
       "    </tr>\n",
       "    <tr>\n",
       "      <th>3</th>\n",
       "      <td>Completed</td>\n",
       "      <td>Master's Degree</td>\n",
       "      <td>70.600000</td>\n",
       "      <td>79.175000</td>\n",
       "      <td>76.316500</td>\n",
       "      <td>6</td>\n",
       "    </tr>\n",
       "    <tr>\n",
       "      <th>11</th>\n",
       "      <td>None</td>\n",
       "      <td>Some High School</td>\n",
       "      <td>61.078431</td>\n",
       "      <td>62.333333</td>\n",
       "      <td>61.914706</td>\n",
       "      <td>1</td>\n",
       "    </tr>\n",
       "    <tr>\n",
       "      <th>8</th>\n",
       "      <td>None</td>\n",
       "      <td>High School</td>\n",
       "      <td>60.992857</td>\n",
       "      <td>61.828571</td>\n",
       "      <td>61.550143</td>\n",
       "      <td>2</td>\n",
       "    </tr>\n",
       "    <tr>\n",
       "      <th>10</th>\n",
       "      <td>None</td>\n",
       "      <td>Some College</td>\n",
       "      <td>64.892617</td>\n",
       "      <td>65.479866</td>\n",
       "      <td>65.283691</td>\n",
       "      <td>3</td>\n",
       "    </tr>\n",
       "    <tr>\n",
       "      <th>6</th>\n",
       "      <td>None</td>\n",
       "      <td>Associate's Degree</td>\n",
       "      <td>65.571429</td>\n",
       "      <td>66.850000</td>\n",
       "      <td>66.423786</td>\n",
       "      <td>4</td>\n",
       "    </tr>\n",
       "    <tr>\n",
       "      <th>7</th>\n",
       "      <td>None</td>\n",
       "      <td>Bachelor's Degree</td>\n",
       "      <td>66.902778</td>\n",
       "      <td>70.298611</td>\n",
       "      <td>69.166667</td>\n",
       "      <td>5</td>\n",
       "    </tr>\n",
       "    <tr>\n",
       "      <th>9</th>\n",
       "      <td>None</td>\n",
       "      <td>Master's Degree</td>\n",
       "      <td>69.307692</td>\n",
       "      <td>73.653846</td>\n",
       "      <td>72.204872</td>\n",
       "      <td>6</td>\n",
       "    </tr>\n",
       "  </tbody>\n",
       "</table>\n",
       "</div>"
      ],
      "text/plain": [
       "   test preparation course parental level of education  math score  \\\n",
       "5                Completed            Some High School   66.701299   \n",
       "2                Completed                 High School   65.000000   \n",
       "4                Completed                Some College   71.454545   \n",
       "0                Completed          Associate's Degree   71.829268   \n",
       "1                Completed           Bachelor's Degree   73.282609   \n",
       "3                Completed             Master's Degree   70.600000   \n",
       "11                    None            Some High School   61.078431   \n",
       "8                     None                 High School   60.992857   \n",
       "10                    None                Some College   64.892617   \n",
       "6                     None          Associate's Degree   65.571429   \n",
       "7                     None           Bachelor's Degree   66.902778   \n",
       "9                     None             Master's Degree   69.307692   \n",
       "\n",
       "    literacy score  mean score  edu_level  \n",
       "5        70.655844   69.337273          1  \n",
       "2        67.946429   66.964821          2  \n",
       "4        76.253247   74.653636          3  \n",
       "0        76.493902   74.938780          4  \n",
       "1        77.717391   76.239783          5  \n",
       "3        79.175000   76.316500          6  \n",
       "11       62.333333   61.914706          1  \n",
       "8        61.828571   61.550143          2  \n",
       "10       65.479866   65.283691          3  \n",
       "6        66.850000   66.423786          4  \n",
       "7        70.298611   69.166667          5  \n",
       "9        73.653846   72.204872          6  "
      ]
     },
     "execution_count": 26,
     "metadata": {},
     "output_type": "execute_result"
    }
   ],
   "source": [
    "#Resulting table\n",
    "g_edu_prep"
   ]
  },
  {
   "cell_type": "code",
   "execution_count": 27,
   "metadata": {},
   "outputs": [],
   "source": [
    "#Creating a df containing only those who did not complete the test preparation, grouped by parental level of education, taking count of values\n",
    "none_edu_prep = perf[['parental level of education','test preparation course']][perf[['parental level of education','test preparation course']]['test preparation course']=='None'].groupby('parental level of education',as_index=False).count()"
   ]
  },
  {
   "cell_type": "code",
   "execution_count": 28,
   "metadata": {},
   "outputs": [],
   "source": [
    "#Creating the education level column\n",
    "none_edu_prep['edu_level'] = [edu_dict[i] for i in none_edu_prep['parental level of education']]"
   ]
  },
  {
   "cell_type": "code",
   "execution_count": 29,
   "metadata": {},
   "outputs": [],
   "source": [
    "#Sorting the values by education level\n",
    "none_edu_prep = none_edu_prep.sort_values(by='edu_level')"
   ]
  },
  {
   "cell_type": "code",
   "execution_count": 30,
   "metadata": {},
   "outputs": [
    {
     "data": {
      "text/html": [
       "<div>\n",
       "<style scoped>\n",
       "    .dataframe tbody tr th:only-of-type {\n",
       "        vertical-align: middle;\n",
       "    }\n",
       "\n",
       "    .dataframe tbody tr th {\n",
       "        vertical-align: top;\n",
       "    }\n",
       "\n",
       "    .dataframe thead th {\n",
       "        text-align: right;\n",
       "    }\n",
       "</style>\n",
       "<table border=\"1\" class=\"dataframe\">\n",
       "  <thead>\n",
       "    <tr style=\"text-align: right;\">\n",
       "      <th></th>\n",
       "      <th>parental level of education</th>\n",
       "      <th>test preparation course</th>\n",
       "      <th>edu_level</th>\n",
       "    </tr>\n",
       "  </thead>\n",
       "  <tbody>\n",
       "    <tr>\n",
       "      <th>5</th>\n",
       "      <td>Some High School</td>\n",
       "      <td>102</td>\n",
       "      <td>1</td>\n",
       "    </tr>\n",
       "    <tr>\n",
       "      <th>2</th>\n",
       "      <td>High School</td>\n",
       "      <td>140</td>\n",
       "      <td>2</td>\n",
       "    </tr>\n",
       "    <tr>\n",
       "      <th>4</th>\n",
       "      <td>Some College</td>\n",
       "      <td>149</td>\n",
       "      <td>3</td>\n",
       "    </tr>\n",
       "    <tr>\n",
       "      <th>0</th>\n",
       "      <td>Associate's Degree</td>\n",
       "      <td>140</td>\n",
       "      <td>4</td>\n",
       "    </tr>\n",
       "    <tr>\n",
       "      <th>1</th>\n",
       "      <td>Bachelor's Degree</td>\n",
       "      <td>72</td>\n",
       "      <td>5</td>\n",
       "    </tr>\n",
       "    <tr>\n",
       "      <th>3</th>\n",
       "      <td>Master's Degree</td>\n",
       "      <td>39</td>\n",
       "      <td>6</td>\n",
       "    </tr>\n",
       "  </tbody>\n",
       "</table>\n",
       "</div>"
      ],
      "text/plain": [
       "  parental level of education  test preparation course  edu_level\n",
       "5            Some High School                      102          1\n",
       "2                 High School                      140          2\n",
       "4                Some College                      149          3\n",
       "0          Associate's Degree                      140          4\n",
       "1           Bachelor's Degree                       72          5\n",
       "3             Master's Degree                       39          6"
      ]
     },
     "execution_count": 30,
     "metadata": {},
     "output_type": "execute_result"
    }
   ],
   "source": [
    "#Resulting count table, column 'test preparation course' is a count of the number of students who did not complete test prep for each parental education level\n",
    "none_edu_prep"
   ]
  },
  {
   "cell_type": "code",
   "execution_count": 31,
   "metadata": {},
   "outputs": [],
   "source": [
    "#Creating a df containing only those who didc omplete the test preparation, grouped by parental level of education\n",
    "completed_edu_prep = perf[['parental level of education','test preparation course']][perf[['parental level of education','test preparation course']]['test preparation course']=='Completed'].groupby('parental level of education',as_index=False).count()"
   ]
  },
  {
   "cell_type": "code",
   "execution_count": 32,
   "metadata": {},
   "outputs": [],
   "source": [
    "#Creating the education level column\n",
    "completed_edu_prep['edu_level'] = [edu_dict[i] for i in completed_edu_prep['parental level of education']]"
   ]
  },
  {
   "cell_type": "code",
   "execution_count": 33,
   "metadata": {},
   "outputs": [],
   "source": [
    "#Sorting the values by education level\n",
    "completed_edu_prep = completed_edu_prep.sort_values(by='edu_level')"
   ]
  },
  {
   "cell_type": "code",
   "execution_count": 34,
   "metadata": {},
   "outputs": [
    {
     "data": {
      "text/html": [
       "<div>\n",
       "<style scoped>\n",
       "    .dataframe tbody tr th:only-of-type {\n",
       "        vertical-align: middle;\n",
       "    }\n",
       "\n",
       "    .dataframe tbody tr th {\n",
       "        vertical-align: top;\n",
       "    }\n",
       "\n",
       "    .dataframe thead th {\n",
       "        text-align: right;\n",
       "    }\n",
       "</style>\n",
       "<table border=\"1\" class=\"dataframe\">\n",
       "  <thead>\n",
       "    <tr style=\"text-align: right;\">\n",
       "      <th></th>\n",
       "      <th>parental level of education</th>\n",
       "      <th>test preparation course</th>\n",
       "      <th>edu_level</th>\n",
       "    </tr>\n",
       "  </thead>\n",
       "  <tbody>\n",
       "    <tr>\n",
       "      <th>5</th>\n",
       "      <td>Some High School</td>\n",
       "      <td>77</td>\n",
       "      <td>1</td>\n",
       "    </tr>\n",
       "    <tr>\n",
       "      <th>2</th>\n",
       "      <td>High School</td>\n",
       "      <td>56</td>\n",
       "      <td>2</td>\n",
       "    </tr>\n",
       "    <tr>\n",
       "      <th>4</th>\n",
       "      <td>Some College</td>\n",
       "      <td>77</td>\n",
       "      <td>3</td>\n",
       "    </tr>\n",
       "    <tr>\n",
       "      <th>0</th>\n",
       "      <td>Associate's Degree</td>\n",
       "      <td>82</td>\n",
       "      <td>4</td>\n",
       "    </tr>\n",
       "    <tr>\n",
       "      <th>1</th>\n",
       "      <td>Bachelor's Degree</td>\n",
       "      <td>46</td>\n",
       "      <td>5</td>\n",
       "    </tr>\n",
       "    <tr>\n",
       "      <th>3</th>\n",
       "      <td>Master's Degree</td>\n",
       "      <td>20</td>\n",
       "      <td>6</td>\n",
       "    </tr>\n",
       "  </tbody>\n",
       "</table>\n",
       "</div>"
      ],
      "text/plain": [
       "  parental level of education  test preparation course  edu_level\n",
       "5            Some High School                       77          1\n",
       "2                 High School                       56          2\n",
       "4                Some College                       77          3\n",
       "0          Associate's Degree                       82          4\n",
       "1           Bachelor's Degree                       46          5\n",
       "3             Master's Degree                       20          6"
      ]
     },
     "execution_count": 34,
     "metadata": {},
     "output_type": "execute_result"
    }
   ],
   "source": [
    "#Resulting count table, column 'test preparation course' is a count of the number of students who did  complete test prep for each parental education level\n",
    "completed_edu_prep"
   ]
  },
  {
   "cell_type": "code",
   "execution_count": 35,
   "metadata": {},
   "outputs": [
    {
     "data": {
      "text/html": [
       "<div>\n",
       "<style scoped>\n",
       "    .dataframe tbody tr th:only-of-type {\n",
       "        vertical-align: middle;\n",
       "    }\n",
       "\n",
       "    .dataframe tbody tr th {\n",
       "        vertical-align: top;\n",
       "    }\n",
       "\n",
       "    .dataframe thead th {\n",
       "        text-align: right;\n",
       "    }\n",
       "</style>\n",
       "<table border=\"1\" class=\"dataframe\">\n",
       "  <thead>\n",
       "    <tr style=\"text-align: right;\">\n",
       "      <th></th>\n",
       "      <th>parental level of education</th>\n",
       "      <th>test preparation course</th>\n",
       "    </tr>\n",
       "  </thead>\n",
       "  <tbody>\n",
       "    <tr>\n",
       "      <th>5</th>\n",
       "      <td>Some High School</td>\n",
       "      <td>43.02</td>\n",
       "    </tr>\n",
       "    <tr>\n",
       "      <th>2</th>\n",
       "      <td>High School</td>\n",
       "      <td>28.57</td>\n",
       "    </tr>\n",
       "    <tr>\n",
       "      <th>4</th>\n",
       "      <td>Some College</td>\n",
       "      <td>34.07</td>\n",
       "    </tr>\n",
       "    <tr>\n",
       "      <th>0</th>\n",
       "      <td>Associate's Degree</td>\n",
       "      <td>36.94</td>\n",
       "    </tr>\n",
       "    <tr>\n",
       "      <th>1</th>\n",
       "      <td>Bachelor's Degree</td>\n",
       "      <td>38.98</td>\n",
       "    </tr>\n",
       "    <tr>\n",
       "      <th>3</th>\n",
       "      <td>Master's Degree</td>\n",
       "      <td>33.90</td>\n",
       "    </tr>\n",
       "  </tbody>\n",
       "</table>\n",
       "</div>"
      ],
      "text/plain": [
       "  parental level of education  test preparation course\n",
       "5            Some High School                    43.02\n",
       "2                 High School                    28.57\n",
       "4                Some College                    34.07\n",
       "0          Associate's Degree                    36.94\n",
       "1           Bachelor's Degree                    38.98\n",
       "3             Master's Degree                    33.90"
      ]
     },
     "execution_count": 35,
     "metadata": {},
     "output_type": "execute_result"
    }
   ],
   "source": [
    "#Creating a table of the percentage values for those who completed the test preparation\n",
    "perctable1 = pd.concat([completed_edu_prep['parental level of education'],np.round(completed_edu_prep['test preparation course']/(completed_edu_prep['test preparation course']+none_edu_prep['test preparation course'])*100,2)],axis=1)\n",
    "perctable1"
   ]
  },
  {
   "cell_type": "code",
   "execution_count": 36,
   "metadata": {},
   "outputs": [
    {
     "data": {
      "text/plain": [
       "['43.02%', '28.57%', '34.07%', '36.94%', '38.98%', '33.9%']"
      ]
     },
     "execution_count": 36,
     "metadata": {},
     "output_type": "execute_result"
    }
   ],
   "source": [
    "#Turning the values in to percentages to add to the graph\n",
    "perclist1 = [str(i)+'%' for i in (perctable1['test preparation course'].values)]\n",
    "perclist1"
   ]
  },
  {
   "cell_type": "code",
   "execution_count": 37,
   "metadata": {},
   "outputs": [
    {
     "data": {
      "image/png": "[encoded data removed]",
      "text/plain": [
       "<Figure size 1944x432 with 2 Axes>"
      ]
     },
     "metadata": {},
     "output_type": "display_data"
    }
   ],
   "source": [
    "#Creating our two data visualisations. Left graph demonstrates the difference in test scores between between the different levels of parental education,\n",
    "#split by those who did and did not complete the test preparation. Right graph plots the count of students who did and did not complete the test\n",
    "#preparation for each level of parental education.\n",
    "\n",
    "fig, axes = plt.subplots(nrows=1, ncols=2, figsize = (27,6),gridspec_kw={'wspace':0.075})\n",
    "\n",
    "#Plotting the data for left hand graph\n",
    "sns.barplot(x=\"parental level of education\", y=\"mean score\", data=g_edu_prep.iloc[:6],label='Completed',ax=axes[0],color=(0.85104086, 0.23436275, 0.27960104))\n",
    "lhp2 = sns.barplot(x=\"parental level of education\", y=\"mean score\", data=g_edu_prep.iloc[6:],label='Not Completed',ax=axes[0],color=(0.25199714, 0.49873371, 0.57516028))\n",
    "\n",
    "#Adding graph details\n",
    "axes[0].legend(ncol=2, loc=\"lower right\",title='Test Preparation', frameon=True)\n",
    "axes[0].set_title('Test Scores vs Parental Level of Education, split by Test Preparation',fontsize=15)\n",
    "axes[0].set_xlabel('Parental Level of Education',fontsize=11)\n",
    "axes[0].set_ylabel('Mean Test Score',fontsize=11)\n",
    "\n",
    "#Shrinking the top plots to improve data interpretability\n",
    "for p in lhp2.patches[6:]:\n",
    "    p.set_width(0.72)\n",
    "\n",
    "#Plotting the data\n",
    "sns.barplot(x=\"parental level of education\", y=\"test preparation course\", data=none_edu_prep,label='Not Completed',ax=axes[1],color=(0.25199714, 0.49873371, 0.57516028))\n",
    "rhp2 = sns.barplot(x=\"parental level of education\", y=\"test preparation course\", data=completed_edu_prep,label='Completed',ax=axes[1],color=(0.85104086, 0.23436275, 0.27960104))\n",
    "\n",
    "#Adding graph details\n",
    "axes[1].legend(ncol=2, loc=\"upper right\",title='Test Preparation', frameon=True)\n",
    "axes[1].set_title('Count of Students Completing Test Preparation vs Parental Level of Education, with % Students Completing',fontsize=15)\n",
    "axes[1].set_xlabel('Parental Level of Education',fontsize=11)\n",
    "axes[1].set_ylabel('Number of Students',fontsize=11)\n",
    "\n",
    "i = -1\n",
    "#Adding percentage values on to graph and shrinking top plots\n",
    "for p in rhp2.patches[6:]:\n",
    "    i += 1 \n",
    "    height = p.get_height()\n",
    "    rhp2.text(p.get_x()+p.get_width()/2.,\n",
    "            height + 3,\n",
    "            perclist1[i],\n",
    "            ha=\"center\")\n",
    "    p.set_width(0.72)"
   ]
  },
  {
   "cell_type": "markdown",
   "metadata": {},
   "source": [
    "### 4) Is there a relationship between race/ethnicity and the parental level of education?\n",
    "\n",
    "#### For this investigation I will normalise the group population sizes to determine accurate % group representation values."
   ]
  },
  {
   "cell_type": "code",
   "execution_count": 38,
   "metadata": {},
   "outputs": [],
   "source": [
    "#Creating our dataframe to count the level of parental education for each different ethnic group\n",
    "eth_edu = perf[['race/ethnicity','parental level of education','mean score']].groupby(['race/ethnicity','parental level of education'],as_index=True).count()"
   ]
  },
  {
   "cell_type": "code",
   "execution_count": 39,
   "metadata": {},
   "outputs": [
    {
     "data": {
      "text/html": [
       "<div>\n",
       "<style scoped>\n",
       "    .dataframe tbody tr th:only-of-type {\n",
       "        vertical-align: middle;\n",
       "    }\n",
       "\n",
       "    .dataframe tbody tr th {\n",
       "        vertical-align: top;\n",
       "    }\n",
       "\n",
       "    .dataframe thead th {\n",
       "        text-align: right;\n",
       "    }\n",
       "</style>\n",
       "<table border=\"1\" class=\"dataframe\">\n",
       "  <thead>\n",
       "    <tr style=\"text-align: right;\">\n",
       "      <th>parental level of education</th>\n",
       "      <th>Associate's Degree</th>\n",
       "      <th>Bachelor's Degree</th>\n",
       "      <th>High School</th>\n",
       "      <th>Master's Degree</th>\n",
       "      <th>Some College</th>\n",
       "      <th>Some High School</th>\n",
       "    </tr>\n",
       "    <tr>\n",
       "      <th>race/ethnicity</th>\n",
       "      <th></th>\n",
       "      <th></th>\n",
       "      <th></th>\n",
       "      <th></th>\n",
       "      <th></th>\n",
       "      <th></th>\n",
       "    </tr>\n",
       "  </thead>\n",
       "  <tbody>\n",
       "    <tr>\n",
       "      <th>Group A</th>\n",
       "      <td>14</td>\n",
       "      <td>12</td>\n",
       "      <td>18</td>\n",
       "      <td>3</td>\n",
       "      <td>18</td>\n",
       "      <td>24</td>\n",
       "    </tr>\n",
       "    <tr>\n",
       "      <th>Group B</th>\n",
       "      <td>41</td>\n",
       "      <td>20</td>\n",
       "      <td>48</td>\n",
       "      <td>6</td>\n",
       "      <td>37</td>\n",
       "      <td>38</td>\n",
       "    </tr>\n",
       "  </tbody>\n",
       "</table>\n",
       "</div>"
      ],
      "text/plain": [
       "parental level of education  Associate's Degree  Bachelor's Degree  \\\n",
       "race/ethnicity                                                       \n",
       "Group A                                      14                 12   \n",
       "Group B                                      41                 20   \n",
       "\n",
       "parental level of education  High School  Master's Degree  Some College  \\\n",
       "race/ethnicity                                                            \n",
       "Group A                               18                3            18   \n",
       "Group B                               48                6            37   \n",
       "\n",
       "parental level of education  Some High School  \n",
       "race/ethnicity                                 \n",
       "Group A                                    24  \n",
       "Group B                                    38  "
      ]
     },
     "execution_count": 39,
     "metadata": {},
     "output_type": "execute_result"
    }
   ],
   "source": [
    "#Converting to a matrix to then normalise population sizes\n",
    "eth_edu = eth_edu.unstack()\n",
    "eth_edu.columns = eth_edu.columns.droplevel()\n",
    "eth_edu.head(2)"
   ]
  },
  {
   "cell_type": "code",
   "execution_count": 40,
   "metadata": {},
   "outputs": [
    {
     "data": {
      "text/html": [
       "<div>\n",
       "<style scoped>\n",
       "    .dataframe tbody tr th:only-of-type {\n",
       "        vertical-align: middle;\n",
       "    }\n",
       "\n",
       "    .dataframe tbody tr th {\n",
       "        vertical-align: top;\n",
       "    }\n",
       "\n",
       "    .dataframe thead th {\n",
       "        text-align: right;\n",
       "    }\n",
       "</style>\n",
       "<table border=\"1\" class=\"dataframe\">\n",
       "  <thead>\n",
       "    <tr style=\"text-align: right;\">\n",
       "      <th>parental level of education</th>\n",
       "      <th>Associate's Degree</th>\n",
       "      <th>Bachelor's Degree</th>\n",
       "      <th>High School</th>\n",
       "      <th>Master's Degree</th>\n",
       "      <th>Some College</th>\n",
       "      <th>Some High School</th>\n",
       "    </tr>\n",
       "    <tr>\n",
       "      <th>race/ethnicity</th>\n",
       "      <th></th>\n",
       "      <th></th>\n",
       "      <th></th>\n",
       "      <th></th>\n",
       "      <th></th>\n",
       "      <th></th>\n",
       "    </tr>\n",
       "  </thead>\n",
       "  <tbody>\n",
       "    <tr>\n",
       "      <th>Group A</th>\n",
       "      <td>0.063063</td>\n",
       "      <td>0.101695</td>\n",
       "      <td>0.091837</td>\n",
       "      <td>0.050847</td>\n",
       "      <td>0.079646</td>\n",
       "      <td>0.134078</td>\n",
       "    </tr>\n",
       "    <tr>\n",
       "      <th>Group B</th>\n",
       "      <td>0.184685</td>\n",
       "      <td>0.169492</td>\n",
       "      <td>0.244898</td>\n",
       "      <td>0.101695</td>\n",
       "      <td>0.163717</td>\n",
       "      <td>0.212291</td>\n",
       "    </tr>\n",
       "  </tbody>\n",
       "</table>\n",
       "</div>"
      ],
      "text/plain": [
       "parental level of education  Associate's Degree  Bachelor's Degree  \\\n",
       "race/ethnicity                                                       \n",
       "Group A                                0.063063           0.101695   \n",
       "Group B                                0.184685           0.169492   \n",
       "\n",
       "parental level of education  High School  Master's Degree  Some College  \\\n",
       "race/ethnicity                                                            \n",
       "Group A                         0.091837         0.050847      0.079646   \n",
       "Group B                         0.244898         0.101695      0.163717   \n",
       "\n",
       "parental level of education  Some High School  \n",
       "race/ethnicity                                 \n",
       "Group A                              0.134078  \n",
       "Group B                              0.212291  "
      ]
     },
     "execution_count": 40,
     "metadata": {},
     "output_type": "execute_result"
    }
   ],
   "source": [
    "#Normalising population sizes\n",
    "eth_edu = eth_edu.apply(lambda x: x/eth_edu.sum(),axis=1)\n",
    "eth_edu.head(2)"
   ]
  },
  {
   "cell_type": "code",
   "execution_count": 41,
   "metadata": {},
   "outputs": [
    {
     "data": {
      "text/html": [
       "<div>\n",
       "<style scoped>\n",
       "    .dataframe tbody tr th:only-of-type {\n",
       "        vertical-align: middle;\n",
       "    }\n",
       "\n",
       "    .dataframe tbody tr th {\n",
       "        vertical-align: top;\n",
       "    }\n",
       "\n",
       "    .dataframe thead th {\n",
       "        text-align: right;\n",
       "    }\n",
       "</style>\n",
       "<table border=\"1\" class=\"dataframe\">\n",
       "  <thead>\n",
       "    <tr style=\"text-align: right;\">\n",
       "      <th>parental level of education</th>\n",
       "      <th>Some High School</th>\n",
       "      <th>High School</th>\n",
       "      <th>Some College</th>\n",
       "      <th>Associate's Degree</th>\n",
       "      <th>Bachelor's Degree</th>\n",
       "      <th>Master's Degree</th>\n",
       "    </tr>\n",
       "    <tr>\n",
       "      <th>race/ethnicity</th>\n",
       "      <th></th>\n",
       "      <th></th>\n",
       "      <th></th>\n",
       "      <th></th>\n",
       "      <th></th>\n",
       "      <th></th>\n",
       "    </tr>\n",
       "  </thead>\n",
       "  <tbody>\n",
       "    <tr>\n",
       "      <th>Group A</th>\n",
       "      <td>25.73</td>\n",
       "      <td>17.62</td>\n",
       "      <td>15.28</td>\n",
       "      <td>12.10</td>\n",
       "      <td>19.51</td>\n",
       "      <td>9.76</td>\n",
       "    </tr>\n",
       "    <tr>\n",
       "      <th>Group B</th>\n",
       "      <td>19.72</td>\n",
       "      <td>22.74</td>\n",
       "      <td>15.20</td>\n",
       "      <td>17.15</td>\n",
       "      <td>15.74</td>\n",
       "      <td>9.44</td>\n",
       "    </tr>\n",
       "  </tbody>\n",
       "</table>\n",
       "</div>"
      ],
      "text/plain": [
       "parental level of education  Some High School  High School  Some College  \\\n",
       "race/ethnicity                                                             \n",
       "Group A                                 25.73        17.62         15.28   \n",
       "Group B                                 19.72        22.74         15.20   \n",
       "\n",
       "parental level of education  Associate's Degree  Bachelor's Degree  \\\n",
       "race/ethnicity                                                       \n",
       "Group A                                   12.10              19.51   \n",
       "Group B                                   17.15              15.74   \n",
       "\n",
       "parental level of education  Master's Degree  \n",
       "race/ethnicity                                \n",
       "Group A                                 9.76  \n",
       "Group B                                 9.44  "
      ]
     },
     "execution_count": 41,
     "metadata": {},
     "output_type": "execute_result"
    }
   ],
   "source": [
    "#Calculating % representation each ethnic group has for each parental level of education\n",
    "eth_edu = eth_edu.apply(lambda x: np.round(x*100/eth_edu.sum(axis=1),2))\n",
    "#Re-organising the columns from most-least education\n",
    "eth_edu = eth_edu[['Some High School','High School','Some College',\"Associate's Degree\",\"Bachelor's Degree\",\"Master's Degree\"]]\n",
    "eth_edu.head(2)"
   ]
  },
  {
   "cell_type": "code",
   "execution_count": 63,
   "metadata": {},
   "outputs": [],
   "source": [
    "eth_edu.stack().reset_index().to_csv('StuPerfQues3.csv')"
   ]
  },
  {
   "cell_type": "code",
   "execution_count": null,
   "metadata": {},
   "outputs": [],
   "source": [
    ".to_csv('StuPerfQues3.csv')"
   ]
  },
  {
   "cell_type": "code",
   "execution_count": 42,
   "metadata": {},
   "outputs": [
    {
     "data": {
      "text/plain": [
       "Text(88,0.5,'Ethnic Group')"
      ]
     },
     "execution_count": 42,
     "metadata": {},
     "output_type": "execute_result"
    },
    {
     "data": {
      "image/png": "[encoded data removed]",
      "text/plain": [
       "<Figure size 864x576 with 2 Axes>"
      ]
     },
     "metadata": {},
     "output_type": "display_data"
    }
   ],
   "source": [
    "fig, axes = plt.subplots(figsize=(12, 8))\n",
    "#Creating heatmap\n",
    "sns.heatmap(eth_edu,annot=True,ax=axes,cmap=(sns.diverging_palette(10, 220, n=6,center='light')))\n",
    "\n",
    "#Adding graph details\n",
    "axes.set_title('Heatmap of Parental Education vs Ethnic Group, % Education Level Representation for each Group',fontsize=15)\n",
    "axes.set_xlabel('Parental Level of Education',fontsize=11)\n",
    "axes.set_ylabel('Ethnic Group',fontsize=11)"
   ]
  },
  {
   "cell_type": "markdown",
   "metadata": {},
   "source": [
    "### 5) Is there a relationship between the parental level of education and lunch type, and race/ethnicity and lunch type?"
   ]
  },
  {
   "cell_type": "markdown",
   "metadata": {},
   "source": [
    "##### Preparing the data for parental education level vs lunch type analysis"
   ]
  },
  {
   "cell_type": "code",
   "execution_count": 43,
   "metadata": {},
   "outputs": [
    {
     "data": {
      "text/html": [
       "<div>\n",
       "<style scoped>\n",
       "    .dataframe tbody tr th:only-of-type {\n",
       "        vertical-align: middle;\n",
       "    }\n",
       "\n",
       "    .dataframe tbody tr th {\n",
       "        vertical-align: top;\n",
       "    }\n",
       "\n",
       "    .dataframe thead th {\n",
       "        text-align: right;\n",
       "    }\n",
       "</style>\n",
       "<table border=\"1\" class=\"dataframe\">\n",
       "  <thead>\n",
       "    <tr style=\"text-align: right;\">\n",
       "      <th></th>\n",
       "      <th>parental level of education</th>\n",
       "      <th>lunch</th>\n",
       "      <th>mean score</th>\n",
       "    </tr>\n",
       "  </thead>\n",
       "  <tbody>\n",
       "    <tr>\n",
       "      <th>0</th>\n",
       "      <td>Associate's Degree</td>\n",
       "      <td>Free/Reduced</td>\n",
       "      <td>77</td>\n",
       "    </tr>\n",
       "    <tr>\n",
       "      <th>1</th>\n",
       "      <td>Associate's Degree</td>\n",
       "      <td>Standard</td>\n",
       "      <td>145</td>\n",
       "    </tr>\n",
       "    <tr>\n",
       "      <th>2</th>\n",
       "      <td>Bachelor's Degree</td>\n",
       "      <td>Free/Reduced</td>\n",
       "      <td>44</td>\n",
       "    </tr>\n",
       "  </tbody>\n",
       "</table>\n",
       "</div>"
      ],
      "text/plain": [
       "  parental level of education         lunch  mean score\n",
       "0          Associate's Degree  Free/Reduced          77\n",
       "1          Associate's Degree      Standard         145\n",
       "2           Bachelor's Degree  Free/Reduced          44"
      ]
     },
     "execution_count": 43,
     "metadata": {},
     "output_type": "execute_result"
    }
   ],
   "source": [
    "#Grouping lunch type by parental level of education, counting the number of observations\n",
    "edu_lu = perf[['parental level of education','lunch','mean score']].groupby(['parental level of education','lunch'],as_index=False).count()\n",
    "edu_lu.head(3)"
   ]
  },
  {
   "cell_type": "code",
   "execution_count": 44,
   "metadata": {},
   "outputs": [
    {
     "data": {
      "text/html": [
       "<div>\n",
       "<style scoped>\n",
       "    .dataframe tbody tr th:only-of-type {\n",
       "        vertical-align: middle;\n",
       "    }\n",
       "\n",
       "    .dataframe tbody tr th {\n",
       "        vertical-align: top;\n",
       "    }\n",
       "\n",
       "    .dataframe thead th {\n",
       "        text-align: right;\n",
       "    }\n",
       "</style>\n",
       "<table border=\"1\" class=\"dataframe\">\n",
       "  <thead>\n",
       "    <tr style=\"text-align: right;\">\n",
       "      <th></th>\n",
       "      <th>parental level of education</th>\n",
       "      <th>lunch</th>\n",
       "      <th>mean score</th>\n",
       "      <th>edu_level</th>\n",
       "    </tr>\n",
       "  </thead>\n",
       "  <tbody>\n",
       "    <tr>\n",
       "      <th>0</th>\n",
       "      <td>Associate's Degree</td>\n",
       "      <td>Free/Reduced</td>\n",
       "      <td>77</td>\n",
       "      <td>4</td>\n",
       "    </tr>\n",
       "    <tr>\n",
       "      <th>1</th>\n",
       "      <td>Associate's Degree</td>\n",
       "      <td>Standard</td>\n",
       "      <td>145</td>\n",
       "      <td>4</td>\n",
       "    </tr>\n",
       "    <tr>\n",
       "      <th>2</th>\n",
       "      <td>Bachelor's Degree</td>\n",
       "      <td>Free/Reduced</td>\n",
       "      <td>44</td>\n",
       "      <td>5</td>\n",
       "    </tr>\n",
       "  </tbody>\n",
       "</table>\n",
       "</div>"
      ],
      "text/plain": [
       "  parental level of education         lunch  mean score  edu_level\n",
       "0          Associate's Degree  Free/Reduced          77          4\n",
       "1          Associate's Degree      Standard         145          4\n",
       "2           Bachelor's Degree  Free/Reduced          44          5"
      ]
     },
     "execution_count": 44,
     "metadata": {},
     "output_type": "execute_result"
    }
   ],
   "source": [
    "#Creating the education level column...\n",
    "edu_lu['edu_level'] = [edu_dict[i] for i in edu_lu['parental level of education']]\n",
    "edu_lu.head(3)"
   ]
  },
  {
   "cell_type": "code",
   "execution_count": 45,
   "metadata": {},
   "outputs": [
    {
     "data": {
      "text/html": [
       "<div>\n",
       "<style scoped>\n",
       "    .dataframe tbody tr th:only-of-type {\n",
       "        vertical-align: middle;\n",
       "    }\n",
       "\n",
       "    .dataframe tbody tr th {\n",
       "        vertical-align: top;\n",
       "    }\n",
       "\n",
       "    .dataframe thead th {\n",
       "        text-align: right;\n",
       "    }\n",
       "</style>\n",
       "<table border=\"1\" class=\"dataframe\">\n",
       "  <thead>\n",
       "    <tr style=\"text-align: right;\">\n",
       "      <th></th>\n",
       "      <th>parental level of education</th>\n",
       "      <th>lunch</th>\n",
       "      <th>mean score</th>\n",
       "      <th>edu_level</th>\n",
       "    </tr>\n",
       "  </thead>\n",
       "  <tbody>\n",
       "    <tr>\n",
       "      <th>10</th>\n",
       "      <td>Some High School</td>\n",
       "      <td>Free/Reduced</td>\n",
       "      <td>61</td>\n",
       "      <td>1</td>\n",
       "    </tr>\n",
       "    <tr>\n",
       "      <th>11</th>\n",
       "      <td>Some High School</td>\n",
       "      <td>Standard</td>\n",
       "      <td>118</td>\n",
       "      <td>1</td>\n",
       "    </tr>\n",
       "    <tr>\n",
       "      <th>4</th>\n",
       "      <td>High School</td>\n",
       "      <td>Free/Reduced</td>\n",
       "      <td>70</td>\n",
       "      <td>2</td>\n",
       "    </tr>\n",
       "  </tbody>\n",
       "</table>\n",
       "</div>"
      ],
      "text/plain": [
       "   parental level of education         lunch  mean score  edu_level\n",
       "10            Some High School  Free/Reduced          61          1\n",
       "11            Some High School      Standard         118          1\n",
       "4                  High School  Free/Reduced          70          2"
      ]
     },
     "execution_count": 45,
     "metadata": {},
     "output_type": "execute_result"
    }
   ],
   "source": [
    "#...and then sorting by it\n",
    "edu_lu.sort_values(['edu_level','lunch'],inplace=True)\n",
    "edu_lu.head(3)"
   ]
  },
  {
   "cell_type": "code",
   "execution_count": 46,
   "metadata": {},
   "outputs": [
    {
     "data": {
      "text/html": [
       "<div>\n",
       "<style scoped>\n",
       "    .dataframe tbody tr th:only-of-type {\n",
       "        vertical-align: middle;\n",
       "    }\n",
       "\n",
       "    .dataframe tbody tr th {\n",
       "        vertical-align: top;\n",
       "    }\n",
       "\n",
       "    .dataframe thead th {\n",
       "        text-align: right;\n",
       "    }\n",
       "</style>\n",
       "<table border=\"1\" class=\"dataframe\">\n",
       "  <thead>\n",
       "    <tr style=\"text-align: right;\">\n",
       "      <th></th>\n",
       "      <th></th>\n",
       "      <th>mean score</th>\n",
       "    </tr>\n",
       "    <tr>\n",
       "      <th>parental level of education</th>\n",
       "      <th>lunch</th>\n",
       "      <th></th>\n",
       "    </tr>\n",
       "  </thead>\n",
       "  <tbody>\n",
       "    <tr>\n",
       "      <th rowspan=\"2\" valign=\"top\">Some High School</th>\n",
       "      <th>Free/Reduced</th>\n",
       "      <td>61</td>\n",
       "    </tr>\n",
       "    <tr>\n",
       "      <th>Standard</th>\n",
       "      <td>118</td>\n",
       "    </tr>\n",
       "    <tr>\n",
       "      <th>High School</th>\n",
       "      <th>Free/Reduced</th>\n",
       "      <td>70</td>\n",
       "    </tr>\n",
       "  </tbody>\n",
       "</table>\n",
       "</div>"
      ],
      "text/plain": [
       "                                          mean score\n",
       "parental level of education lunch                   \n",
       "Some High School            Free/Reduced          61\n",
       "                            Standard             118\n",
       "High School                 Free/Reduced          70"
      ]
     },
     "execution_count": 46,
     "metadata": {},
     "output_type": "execute_result"
    }
   ],
   "source": [
    "#Preparing the table for the join operation\n",
    "edu_lu = edu_lu.set_index(['parental level of education','lunch']).drop('edu_level',axis=1)\n",
    "edu_lu.head(3)"
   ]
  },
  {
   "cell_type": "code",
   "execution_count": 47,
   "metadata": {},
   "outputs": [
    {
     "data": {
      "text/html": [
       "<div>\n",
       "<style scoped>\n",
       "    .dataframe tbody tr th:only-of-type {\n",
       "        vertical-align: middle;\n",
       "    }\n",
       "\n",
       "    .dataframe tbody tr th {\n",
       "        vertical-align: top;\n",
       "    }\n",
       "\n",
       "    .dataframe thead th {\n",
       "        text-align: right;\n",
       "    }\n",
       "</style>\n",
       "<table border=\"1\" class=\"dataframe\">\n",
       "  <thead>\n",
       "    <tr style=\"text-align: right;\">\n",
       "      <th></th>\n",
       "      <th></th>\n",
       "      <th>mean score</th>\n",
       "      <th>mean score sum</th>\n",
       "    </tr>\n",
       "    <tr>\n",
       "      <th>parental level of education</th>\n",
       "      <th>lunch</th>\n",
       "      <th></th>\n",
       "      <th></th>\n",
       "    </tr>\n",
       "  </thead>\n",
       "  <tbody>\n",
       "    <tr>\n",
       "      <th rowspan=\"2\" valign=\"top\">Some High School</th>\n",
       "      <th>Free/Reduced</th>\n",
       "      <td>61</td>\n",
       "      <td>179</td>\n",
       "    </tr>\n",
       "    <tr>\n",
       "      <th>Standard</th>\n",
       "      <td>118</td>\n",
       "      <td>179</td>\n",
       "    </tr>\n",
       "    <tr>\n",
       "      <th>High School</th>\n",
       "      <th>Free/Reduced</th>\n",
       "      <td>70</td>\n",
       "      <td>196</td>\n",
       "    </tr>\n",
       "  </tbody>\n",
       "</table>\n",
       "</div>"
      ],
      "text/plain": [
       "                                          mean score  mean score sum\n",
       "parental level of education lunch                                   \n",
       "Some High School            Free/Reduced          61             179\n",
       "                            Standard             118             179\n",
       "High School                 Free/Reduced          70             196"
      ]
     },
     "execution_count": 47,
     "metadata": {},
     "output_type": "execute_result"
    }
   ],
   "source": [
    "#Joining the table to one counting the sum of the observations for each education group\n",
    "edu_lu = edu_lu.join(perf[['parental level of education','mean score']].groupby(['parental level of education'],as_index=True).count(),on='parental level of education',rsuffix=' sum')\n",
    "edu_lu.head(3)"
   ]
  },
  {
   "cell_type": "code",
   "execution_count": 48,
   "metadata": {},
   "outputs": [
    {
     "data": {
      "text/html": [
       "<div>\n",
       "<style scoped>\n",
       "    .dataframe tbody tr th:only-of-type {\n",
       "        vertical-align: middle;\n",
       "    }\n",
       "\n",
       "    .dataframe tbody tr th {\n",
       "        vertical-align: top;\n",
       "    }\n",
       "\n",
       "    .dataframe thead th {\n",
       "        text-align: right;\n",
       "    }\n",
       "</style>\n",
       "<table border=\"1\" class=\"dataframe\">\n",
       "  <thead>\n",
       "    <tr style=\"text-align: right;\">\n",
       "      <th></th>\n",
       "      <th></th>\n",
       "      <th>count</th>\n",
       "      <th>sum count</th>\n",
       "      <th>perc</th>\n",
       "    </tr>\n",
       "    <tr>\n",
       "      <th>parental level of education</th>\n",
       "      <th>lunch</th>\n",
       "      <th></th>\n",
       "      <th></th>\n",
       "      <th></th>\n",
       "    </tr>\n",
       "  </thead>\n",
       "  <tbody>\n",
       "    <tr>\n",
       "      <th rowspan=\"2\" valign=\"top\">Some High School</th>\n",
       "      <th>Free/Reduced</th>\n",
       "      <td>61</td>\n",
       "      <td>179</td>\n",
       "      <td>34.08</td>\n",
       "    </tr>\n",
       "    <tr>\n",
       "      <th>Standard</th>\n",
       "      <td>118</td>\n",
       "      <td>179</td>\n",
       "      <td>65.92</td>\n",
       "    </tr>\n",
       "    <tr>\n",
       "      <th>High School</th>\n",
       "      <th>Free/Reduced</th>\n",
       "      <td>70</td>\n",
       "      <td>196</td>\n",
       "      <td>35.71</td>\n",
       "    </tr>\n",
       "  </tbody>\n",
       "</table>\n",
       "</div>"
      ],
      "text/plain": [
       "                                          count  sum count   perc\n",
       "parental level of education lunch                                \n",
       "Some High School            Free/Reduced     61        179  34.08\n",
       "                            Standard        118        179  65.92\n",
       "High School                 Free/Reduced     70        196  35.71"
      ]
     },
     "execution_count": 48,
     "metadata": {},
     "output_type": "execute_result"
    }
   ],
   "source": [
    "#Calculating a percentage value that each lunch type represents for its ethnic group\n",
    "edu_lu['perc'] = np.round(edu_lu['mean score']*100/edu_lu['mean score sum'],2)\n",
    "edu_lu.columns=['count','sum count','perc']\n",
    "edu_lu.head(3)"
   ]
  },
  {
   "cell_type": "code",
   "execution_count": 49,
   "metadata": {},
   "outputs": [
    {
     "data": {
      "text/plain": [
       "['34.08%', '35.71%', '34.96%', '34.68%', '37.29%', '40.68%']"
      ]
     },
     "execution_count": 49,
     "metadata": {},
     "output_type": "execute_result"
    }
   ],
   "source": [
    "#Creating a list of only the precentage values for Free/Reduced to be called upon later\n",
    "perclist2 = [str(i)+'%' for i in (edu_lu.reset_index()[edu_lu.reset_index()['lunch']=='Free/Reduced']['perc'].values)]\n",
    "perclist2"
   ]
  },
  {
   "cell_type": "markdown",
   "metadata": {},
   "source": [
    "##### Preparing the data for ethnic group vs lunch type analysis"
   ]
  },
  {
   "cell_type": "code",
   "execution_count": 50,
   "metadata": {},
   "outputs": [
    {
     "data": {
      "text/html": [
       "<div>\n",
       "<style scoped>\n",
       "    .dataframe tbody tr th:only-of-type {\n",
       "        vertical-align: middle;\n",
       "    }\n",
       "\n",
       "    .dataframe tbody tr th {\n",
       "        vertical-align: top;\n",
       "    }\n",
       "\n",
       "    .dataframe thead th {\n",
       "        text-align: right;\n",
       "    }\n",
       "</style>\n",
       "<table border=\"1\" class=\"dataframe\">\n",
       "  <thead>\n",
       "    <tr style=\"text-align: right;\">\n",
       "      <th></th>\n",
       "      <th></th>\n",
       "      <th>mean score</th>\n",
       "    </tr>\n",
       "    <tr>\n",
       "      <th>race/ethnicity</th>\n",
       "      <th>lunch</th>\n",
       "      <th></th>\n",
       "    </tr>\n",
       "  </thead>\n",
       "  <tbody>\n",
       "    <tr>\n",
       "      <th rowspan=\"2\" valign=\"top\">Group A</th>\n",
       "      <th>Free/Reduced</th>\n",
       "      <td>36</td>\n",
       "    </tr>\n",
       "    <tr>\n",
       "      <th>Standard</th>\n",
       "      <td>53</td>\n",
       "    </tr>\n",
       "    <tr>\n",
       "      <th>Group B</th>\n",
       "      <th>Free/Reduced</th>\n",
       "      <td>69</td>\n",
       "    </tr>\n",
       "  </tbody>\n",
       "</table>\n",
       "</div>"
      ],
      "text/plain": [
       "                             mean score\n",
       "race/ethnicity lunch                   \n",
       "Group A        Free/Reduced          36\n",
       "               Standard              53\n",
       "Group B        Free/Reduced          69"
      ]
     },
     "execution_count": 50,
     "metadata": {},
     "output_type": "execute_result"
    }
   ],
   "source": [
    "#Grouping lunch type by ethnic group, counting the number of observations\n",
    "eth_lu = perf[['race/ethnicity','lunch','mean score']].groupby(['race/ethnicity','lunch'],as_index=True).count()\n",
    "eth_lu.head(3)"
   ]
  },
  {
   "cell_type": "code",
   "execution_count": 51,
   "metadata": {},
   "outputs": [
    {
     "data": {
      "text/html": [
       "<div>\n",
       "<style scoped>\n",
       "    .dataframe tbody tr th:only-of-type {\n",
       "        vertical-align: middle;\n",
       "    }\n",
       "\n",
       "    .dataframe tbody tr th {\n",
       "        vertical-align: top;\n",
       "    }\n",
       "\n",
       "    .dataframe thead th {\n",
       "        text-align: right;\n",
       "    }\n",
       "</style>\n",
       "<table border=\"1\" class=\"dataframe\">\n",
       "  <thead>\n",
       "    <tr style=\"text-align: right;\">\n",
       "      <th></th>\n",
       "      <th></th>\n",
       "      <th>mean score</th>\n",
       "      <th>mean score sum</th>\n",
       "    </tr>\n",
       "    <tr>\n",
       "      <th>race/ethnicity</th>\n",
       "      <th>lunch</th>\n",
       "      <th></th>\n",
       "      <th></th>\n",
       "    </tr>\n",
       "  </thead>\n",
       "  <tbody>\n",
       "    <tr>\n",
       "      <th rowspan=\"2\" valign=\"top\">Group A</th>\n",
       "      <th>Free/Reduced</th>\n",
       "      <td>36</td>\n",
       "      <td>89</td>\n",
       "    </tr>\n",
       "    <tr>\n",
       "      <th>Standard</th>\n",
       "      <td>53</td>\n",
       "      <td>89</td>\n",
       "    </tr>\n",
       "    <tr>\n",
       "      <th>Group B</th>\n",
       "      <th>Free/Reduced</th>\n",
       "      <td>69</td>\n",
       "      <td>190</td>\n",
       "    </tr>\n",
       "  </tbody>\n",
       "</table>\n",
       "</div>"
      ],
      "text/plain": [
       "                             mean score  mean score sum\n",
       "race/ethnicity lunch                                   \n",
       "Group A        Free/Reduced          36              89\n",
       "               Standard              53              89\n",
       "Group B        Free/Reduced          69             190"
      ]
     },
     "execution_count": 51,
     "metadata": {},
     "output_type": "execute_result"
    }
   ],
   "source": [
    "#Joining the table to one counting the sum of the observations for each ethnic group\n",
    "eth_lu = eth_lu.join(perf[['race/ethnicity','mean score']].groupby(['race/ethnicity'],as_index=True).count(),on='race/ethnicity',rsuffix=' sum')\n",
    "eth_lu.head(3)"
   ]
  },
  {
   "cell_type": "code",
   "execution_count": 52,
   "metadata": {},
   "outputs": [
    {
     "data": {
      "text/html": [
       "<div>\n",
       "<style scoped>\n",
       "    .dataframe tbody tr th:only-of-type {\n",
       "        vertical-align: middle;\n",
       "    }\n",
       "\n",
       "    .dataframe tbody tr th {\n",
       "        vertical-align: top;\n",
       "    }\n",
       "\n",
       "    .dataframe thead th {\n",
       "        text-align: right;\n",
       "    }\n",
       "</style>\n",
       "<table border=\"1\" class=\"dataframe\">\n",
       "  <thead>\n",
       "    <tr style=\"text-align: right;\">\n",
       "      <th></th>\n",
       "      <th></th>\n",
       "      <th>count</th>\n",
       "      <th>sum count</th>\n",
       "      <th>perc</th>\n",
       "    </tr>\n",
       "    <tr>\n",
       "      <th>race/ethnicity</th>\n",
       "      <th>lunch</th>\n",
       "      <th></th>\n",
       "      <th></th>\n",
       "      <th></th>\n",
       "    </tr>\n",
       "  </thead>\n",
       "  <tbody>\n",
       "    <tr>\n",
       "      <th rowspan=\"2\" valign=\"top\">Group A</th>\n",
       "      <th>Free/Reduced</th>\n",
       "      <td>36</td>\n",
       "      <td>89</td>\n",
       "      <td>40.45</td>\n",
       "    </tr>\n",
       "    <tr>\n",
       "      <th>Standard</th>\n",
       "      <td>53</td>\n",
       "      <td>89</td>\n",
       "      <td>59.55</td>\n",
       "    </tr>\n",
       "    <tr>\n",
       "      <th>Group B</th>\n",
       "      <th>Free/Reduced</th>\n",
       "      <td>69</td>\n",
       "      <td>190</td>\n",
       "      <td>36.32</td>\n",
       "    </tr>\n",
       "  </tbody>\n",
       "</table>\n",
       "</div>"
      ],
      "text/plain": [
       "                             count  sum count   perc\n",
       "race/ethnicity lunch                                \n",
       "Group A        Free/Reduced     36         89  40.45\n",
       "               Standard         53         89  59.55\n",
       "Group B        Free/Reduced     69        190  36.32"
      ]
     },
     "execution_count": 52,
     "metadata": {},
     "output_type": "execute_result"
    }
   ],
   "source": [
    "#Calculating a percentage value that each lunch type represents for its ethnic group\n",
    "eth_lu['perc'] = np.round(eth_lu['mean score']*100/eth_lu['mean score sum'],2)\n",
    "eth_lu.columns=['count','sum count','perc']\n",
    "eth_lu.head(3)"
   ]
  },
  {
   "cell_type": "code",
   "execution_count": 53,
   "metadata": {},
   "outputs": [
    {
     "data": {
      "text/plain": [
       "['40.45%', '36.32%', '35.74%', '36.26%', '29.29%']"
      ]
     },
     "execution_count": 53,
     "metadata": {},
     "output_type": "execute_result"
    }
   ],
   "source": [
    "#Creating a list of only the precentage values for Free/Reduced to be called upon later\n",
    "perclist3 = [str(i)+'%' for i in (eth_lu.reset_index()[eth_lu.reset_index()['lunch']=='Free/Reduced']['perc'].values)]\n",
    "perclist3"
   ]
  },
  {
   "cell_type": "code",
   "execution_count": 54,
   "metadata": {},
   "outputs": [
    {
     "data": {
      "image/png": "[encoded data removed]",
      "text/plain": [
       "<Figure size 1944x432 with 2 Axes>"
      ]
     },
     "metadata": {},
     "output_type": "display_data"
    }
   ],
   "source": [
    "#Creating our two data visualisations. Left graph plots the count of lunch types per parent education level, with % of students receiving free/reduced\n",
    "#meals for each education level. Right graph plots the count of lunch types per ethnic group, with % of students receiving free/reduced meals for each\n",
    "#ethnic group.\n",
    "\n",
    "fig, axes = plt.subplots(nrows=1, ncols=2, figsize = (27,6),gridspec_kw={'wspace':0.075})\n",
    "\n",
    "#Plotting the data for left hand graph\n",
    "sns.barplot(x=\"parental level of education\", y=\"count\", data=edu_lu.reset_index()[edu_lu.reset_index()['lunch']=='Standard'],label='Standard',ax=axes[0],color=(0.25199714, 0.49873371, 0.57516028))\n",
    "lhp2 = sns.barplot(x=\"parental level of education\", y=\"count\", data=edu_lu.reset_index()[edu_lu.reset_index()['lunch']=='Free/Reduced'],label='Free/Reduced',ax=axes[0],color=(0.85104086, 0.23436275, 0.27960104))\n",
    "\n",
    "#Adding graph details\n",
    "axes[0].legend(ncol=2, loc=\"upper right\",title='Lunch Type', frameon=True)\n",
    "axes[0].set_title('Count of Lunch Type per Parental Education Level, with % Students Recieving Free/Reduced Meals',fontsize=15)\n",
    "axes[0].set_xlabel('Parental Education Level',fontsize=11)\n",
    "axes[0].set_ylabel('Number of Students',fontsize=11)\n",
    "\n",
    "#Adding percentage values on to graph and shrinking top plots\n",
    "i = -1\n",
    "for p in lhp2.patches[6:]:\n",
    "    i += 1 \n",
    "    height = p.get_height()\n",
    "    lhp2.text(p.get_x()+p.get_width()/2.,\n",
    "            height + 3,\n",
    "            perclist2[i],\n",
    "            ha=\"center\")\n",
    "    p.set_width(0.72)\n",
    "\n",
    "#Plotting the data for right hand graph\n",
    "sns.barplot(x=\"race/ethnicity\", y=\"count\", data=eth_lu.reset_index()[eth_lu.reset_index()['lunch']=='Standard'],label='Standard',ax=axes[1],color=(0.25199714, 0.49873371, 0.57516028))\n",
    "rhp2 = sns.barplot(x=\"race/ethnicity\", y=\"count\", data=eth_lu.reset_index()[eth_lu.reset_index()['lunch']=='Free/Reduced'],label='Free/Reduced',ax=axes[1],color=(0.85104086, 0.23436275, 0.27960104))\n",
    "\n",
    "#Adding graph details\n",
    "axes[1].legend(ncol=2, loc=\"upper right\",title='Lunch Type', frameon=True)\n",
    "axes[1].set_title('Count of Lunch Type per Ethnic Group, with % Students Recieving Free/Reduced Meals',fontsize=15)\n",
    "axes[1].set_xlabel('Ethnic Group',fontsize=11)\n",
    "axes[1].set_ylabel('Number of Students',fontsize=11)\n",
    "\n",
    "#Adding percentage values on to graph and shrinking top plots\n",
    "i = -1\n",
    "for p in rhp2.patches[5:]:\n",
    "    i += 1 \n",
    "    height = p.get_height()\n",
    "    rhp2.text(p.get_x()+p.get_width()/2.,\n",
    "            height + 3,\n",
    "            perclist3[i],\n",
    "            ha=\"center\")\n",
    "    p.set_width(0.72)"
   ]
  }
 ],
 "metadata": {
  "kernelspec": {
   "display_name": "Python 3",
   "language": "python",
   "name": "python3"
  },
  "language_info": {
   "codemirror_mode": {
    "name": "ipython",
    "version": 3
   },
   "file_extension": ".py",
   "mimetype": "text/x-python",
   "name": "python",
   "nbconvert_exporter": "python",
   "pygments_lexer": "ipython3",
   "version": "3.6.5"
  }
 },
 "nbformat": 4,
 "nbformat_minor": 2
}
